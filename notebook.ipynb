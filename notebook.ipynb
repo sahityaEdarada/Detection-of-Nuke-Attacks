{
  "nbformat": 4,
  "nbformat_minor": 0,
  "metadata": {
    "colab": {
      "name": "ML_review2 (3).ipynb",
      "provenance": []
    },
    "kernelspec": {
      "name": "python3",
      "display_name": "Python 3"
    },
    "language_info": {
      "name": "python"
    }
  },
  "cells": [
    {
      "cell_type": "markdown",
      "metadata": {
        "id": "u4AXvfILzHek"
      },
      "source": [
        "# Preprocessing"
      ]
    },
    {
      "cell_type": "markdown",
      "metadata": {
        "id": "A0R8X92gMCcc"
      },
      "source": [
        "Data preprocessing is a technique which is used to transform the raw data into a useful and efficient format "
      ]
    },
    {
      "cell_type": "code",
      "metadata": {
        "id": "iWTORvVb9CuP"
      },
      "source": [
        "import numpy as np\n",
        "import pandas as pd"
      ],
      "execution_count": 1,
      "outputs": []
    },
    {
      "cell_type": "code",
      "metadata": {
        "colab": {
          "base_uri": "https://localhost:8080/"
        },
        "id": "ZU3xWX2W9Lzp",
        "outputId": "066f78c4-2e65-4bb7-c8fd-49eccbf8af3c"
      },
      "source": [
        "from google.colab import drive\n",
        "drive.mount('/content/drive')"
      ],
      "execution_count": 2,
      "outputs": [
        {
          "output_type": "stream",
          "name": "stdout",
          "text": [
            "Mounted at /content/drive\n"
          ]
        }
      ]
    },
    {
      "cell_type": "code",
      "metadata": {
        "id": "CXxesAbj9ddM"
      },
      "source": [
        "df_user=pd.read_csv('/content/drive/MyDrive/datascience/csvfiles/user.csv')"
      ],
      "execution_count": 3,
      "outputs": []
    },
    {
      "cell_type": "code",
      "metadata": {
        "id": "39H5SSFM9dlv"
      },
      "source": [
        "df_data=pd.read_csv('/content/drive/MyDrive/datascience/csvfiles/data.csv')"
      ],
      "execution_count": 4,
      "outputs": []
    },
    {
      "cell_type": "code",
      "metadata": {
        "id": "2HjKYRu_9WHM"
      },
      "source": [
        "df_movie=pd.read_csv('/content/drive/MyDrive/datascience/csvfiles/movie.csv')"
      ],
      "execution_count": 5,
      "outputs": []
    },
    {
      "cell_type": "markdown",
      "metadata": {
        "id": "eyWu7Oa6_tfX"
      },
      "source": [
        "# Data Cleaning"
      ]
    },
    {
      "cell_type": "markdown",
      "metadata": {
        "id": "102Zylxi_krH"
      },
      "source": [
        "# Removing Null Values"
      ]
    },
    {
      "cell_type": "code",
      "metadata": {
        "colab": {
          "base_uri": "https://localhost:8080/",
          "height": 0
        },
        "id": "lwFcm2EmGSEp",
        "outputId": "bdc41675-4410-4cf6-c596-1da59481b6e9"
      },
      "source": [
        "df_data"
      ],
      "execution_count": 6,
      "outputs": [
        {
          "output_type": "execute_result",
          "data": {
            "text/html": [
              "<div>\n",
              "<style scoped>\n",
              "    .dataframe tbody tr th:only-of-type {\n",
              "        vertical-align: middle;\n",
              "    }\n",
              "\n",
              "    .dataframe tbody tr th {\n",
              "        vertical-align: top;\n",
              "    }\n",
              "\n",
              "    .dataframe thead th {\n",
              "        text-align: right;\n",
              "    }\n",
              "</style>\n",
              "<table border=\"1\" class=\"dataframe\">\n",
              "  <thead>\n",
              "    <tr style=\"text-align: right;\">\n",
              "      <th></th>\n",
              "      <th>user_id</th>\n",
              "      <th>movie_id</th>\n",
              "      <th>rating</th>\n",
              "      <th>timestamp</th>\n",
              "    </tr>\n",
              "  </thead>\n",
              "  <tbody>\n",
              "    <tr>\n",
              "      <th>0</th>\n",
              "      <td>196</td>\n",
              "      <td>242</td>\n",
              "      <td>3</td>\n",
              "      <td>881250949</td>\n",
              "    </tr>\n",
              "    <tr>\n",
              "      <th>1</th>\n",
              "      <td>186</td>\n",
              "      <td>302</td>\n",
              "      <td>3</td>\n",
              "      <td>891717742</td>\n",
              "    </tr>\n",
              "    <tr>\n",
              "      <th>2</th>\n",
              "      <td>22</td>\n",
              "      <td>377</td>\n",
              "      <td>1</td>\n",
              "      <td>878887116</td>\n",
              "    </tr>\n",
              "    <tr>\n",
              "      <th>3</th>\n",
              "      <td>244</td>\n",
              "      <td>51</td>\n",
              "      <td>2</td>\n",
              "      <td>880606923</td>\n",
              "    </tr>\n",
              "    <tr>\n",
              "      <th>4</th>\n",
              "      <td>166</td>\n",
              "      <td>346</td>\n",
              "      <td>1</td>\n",
              "      <td>886397596</td>\n",
              "    </tr>\n",
              "    <tr>\n",
              "      <th>...</th>\n",
              "      <td>...</td>\n",
              "      <td>...</td>\n",
              "      <td>...</td>\n",
              "      <td>...</td>\n",
              "    </tr>\n",
              "    <tr>\n",
              "      <th>99995</th>\n",
              "      <td>880</td>\n",
              "      <td>476</td>\n",
              "      <td>3</td>\n",
              "      <td>880175444</td>\n",
              "    </tr>\n",
              "    <tr>\n",
              "      <th>99996</th>\n",
              "      <td>716</td>\n",
              "      <td>204</td>\n",
              "      <td>5</td>\n",
              "      <td>879795543</td>\n",
              "    </tr>\n",
              "    <tr>\n",
              "      <th>99997</th>\n",
              "      <td>276</td>\n",
              "      <td>1090</td>\n",
              "      <td>1</td>\n",
              "      <td>874795795</td>\n",
              "    </tr>\n",
              "    <tr>\n",
              "      <th>99998</th>\n",
              "      <td>13</td>\n",
              "      <td>225</td>\n",
              "      <td>2</td>\n",
              "      <td>882399156</td>\n",
              "    </tr>\n",
              "    <tr>\n",
              "      <th>99999</th>\n",
              "      <td>12</td>\n",
              "      <td>203</td>\n",
              "      <td>3</td>\n",
              "      <td>879959583</td>\n",
              "    </tr>\n",
              "  </tbody>\n",
              "</table>\n",
              "<p>100000 rows × 4 columns</p>\n",
              "</div>"
            ],
            "text/plain": [
              "       user_id  movie_id  rating  timestamp\n",
              "0          196       242       3  881250949\n",
              "1          186       302       3  891717742\n",
              "2           22       377       1  878887116\n",
              "3          244        51       2  880606923\n",
              "4          166       346       1  886397596\n",
              "...        ...       ...     ...        ...\n",
              "99995      880       476       3  880175444\n",
              "99996      716       204       5  879795543\n",
              "99997      276      1090       1  874795795\n",
              "99998       13       225       2  882399156\n",
              "99999       12       203       3  879959583\n",
              "\n",
              "[100000 rows x 4 columns]"
            ]
          },
          "metadata": {},
          "execution_count": 6
        }
      ]
    },
    {
      "cell_type": "code",
      "metadata": {
        "colab": {
          "base_uri": "https://localhost:8080/"
        },
        "id": "EZqNHVzN-ZLJ",
        "outputId": "f66d6f62-4895-4094-e7e6-ad320b5fd29f"
      },
      "source": [
        "df_data.shape"
      ],
      "execution_count": 7,
      "outputs": [
        {
          "output_type": "execute_result",
          "data": {
            "text/plain": [
              "(100000, 4)"
            ]
          },
          "metadata": {},
          "execution_count": 7
        }
      ]
    },
    {
      "cell_type": "code",
      "metadata": {
        "colab": {
          "base_uri": "https://localhost:8080/"
        },
        "id": "76PnZekY97TD",
        "outputId": "669c9862-ff48-42e1-8d4e-108fda817eb3"
      },
      "source": [
        "df_data.info()"
      ],
      "execution_count": 8,
      "outputs": [
        {
          "output_type": "stream",
          "name": "stdout",
          "text": [
            "<class 'pandas.core.frame.DataFrame'>\n",
            "RangeIndex: 100000 entries, 0 to 99999\n",
            "Data columns (total 4 columns):\n",
            " #   Column     Non-Null Count   Dtype\n",
            "---  ------     --------------   -----\n",
            " 0   user_id    100000 non-null  int64\n",
            " 1   movie_id   100000 non-null  int64\n",
            " 2   rating     100000 non-null  int64\n",
            " 3   timestamp  100000 non-null  int64\n",
            "dtypes: int64(4)\n",
            "memory usage: 3.1 MB\n"
          ]
        }
      ]
    },
    {
      "cell_type": "markdown",
      "metadata": {
        "id": "FN69E8IS-i7n"
      },
      "source": [
        "no null values in the dataset data.csv"
      ]
    },
    {
      "cell_type": "code",
      "metadata": {
        "colab": {
          "base_uri": "https://localhost:8080/",
          "height": 0
        },
        "id": "CeJDbB7nGY6F",
        "outputId": "a0317eca-ffdb-44ba-9b0d-57804b7dc514"
      },
      "source": [
        "df_movie"
      ],
      "execution_count": 9,
      "outputs": [
        {
          "output_type": "execute_result",
          "data": {
            "text/html": [
              "<div>\n",
              "<style scoped>\n",
              "    .dataframe tbody tr th:only-of-type {\n",
              "        vertical-align: middle;\n",
              "    }\n",
              "\n",
              "    .dataframe tbody tr th {\n",
              "        vertical-align: top;\n",
              "    }\n",
              "\n",
              "    .dataframe thead th {\n",
              "        text-align: right;\n",
              "    }\n",
              "</style>\n",
              "<table border=\"1\" class=\"dataframe\">\n",
              "  <thead>\n",
              "    <tr style=\"text-align: right;\">\n",
              "      <th></th>\n",
              "      <th>movie_id</th>\n",
              "      <th>movietitle</th>\n",
              "      <th>releasedate</th>\n",
              "      <th>IMDB</th>\n",
              "      <th>genres</th>\n",
              "      <th>members</th>\n",
              "      <th>season</th>\n",
              "      <th>year</th>\n",
              "    </tr>\n",
              "  </thead>\n",
              "  <tbody>\n",
              "    <tr>\n",
              "      <th>0</th>\n",
              "      <td>1</td>\n",
              "      <td>Toy Story (1995)</td>\n",
              "      <td>1-Jan-95</td>\n",
              "      <td>http://us.imdb.com/M/title-exact?Toy%20Story%2...</td>\n",
              "      <td>Action,Adventure,Comedy,Drama,Sci-Fi,Space</td>\n",
              "      <td>1324054</td>\n",
              "      <td>spring</td>\n",
              "      <td>1995</td>\n",
              "    </tr>\n",
              "    <tr>\n",
              "      <th>1</th>\n",
              "      <td>2</td>\n",
              "      <td>GoldenEye (1995)</td>\n",
              "      <td>1-Jan-95</td>\n",
              "      <td>http://us.imdb.com/M/title-exact?GoldenEye%20(...</td>\n",
              "      <td>Action,Drama,Mystery,Sci-Fi,Space</td>\n",
              "      <td>284827</td>\n",
              "      <td>summer</td>\n",
              "      <td>1995</td>\n",
              "    </tr>\n",
              "    <tr>\n",
              "      <th>2</th>\n",
              "      <td>3</td>\n",
              "      <td>Four Rooms (1995)</td>\n",
              "      <td>1-Jan-95</td>\n",
              "      <td>http://us.imdb.com/M/title-exact?Four%20Rooms%...</td>\n",
              "      <td>Action,Sci-Fi,Adventure,Comedy,Drama,Shounen</td>\n",
              "      <td>578887</td>\n",
              "      <td>spring</td>\n",
              "      <td>1995</td>\n",
              "    </tr>\n",
              "    <tr>\n",
              "      <th>3</th>\n",
              "      <td>4</td>\n",
              "      <td>Get Shorty (1995)</td>\n",
              "      <td>1-Jan-95</td>\n",
              "      <td>http://us.imdb.com/M/title-exact?Get%20Shorty%...</td>\n",
              "      <td>Action,Mystery,Police,Supernatural,Drama,Magic</td>\n",
              "      <td>96487</td>\n",
              "      <td>summer</td>\n",
              "      <td>1995</td>\n",
              "    </tr>\n",
              "    <tr>\n",
              "      <th>4</th>\n",
              "      <td>5</td>\n",
              "      <td>Copycat (1995)</td>\n",
              "      <td>1-Jan-95</td>\n",
              "      <td>http://us.imdb.com/M/title-exact?Copycat%20(1995)</td>\n",
              "      <td>Adventure,Fantasy,Shounen,Supernatural</td>\n",
              "      <td>13450</td>\n",
              "      <td>fall</td>\n",
              "      <td>1995</td>\n",
              "    </tr>\n",
              "    <tr>\n",
              "      <th>...</th>\n",
              "      <td>...</td>\n",
              "      <td>...</td>\n",
              "      <td>...</td>\n",
              "      <td>...</td>\n",
              "      <td>...</td>\n",
              "      <td>...</td>\n",
              "      <td>...</td>\n",
              "      <td>...</td>\n",
              "    </tr>\n",
              "    <tr>\n",
              "      <th>1677</th>\n",
              "      <td>1678</td>\n",
              "      <td>Mat' i syn (1997)</td>\n",
              "      <td>6-Feb-98</td>\n",
              "      <td>http://us.imdb.com/M/title-exact?Mat%27+i+syn+...</td>\n",
              "      <td>Action,Adventure,Fantasy,Mecha</td>\n",
              "      <td>1072</td>\n",
              "      <td>summer</td>\n",
              "      <td>1998</td>\n",
              "    </tr>\n",
              "    <tr>\n",
              "      <th>1678</th>\n",
              "      <td>1679</td>\n",
              "      <td>B. Monkey (1998)</td>\n",
              "      <td>6-Feb-98</td>\n",
              "      <td>http://us.imdb.com/M/title-exact?B%2E+Monkey+(...</td>\n",
              "      <td>Action,Adventure,Fantasy,Mecha</td>\n",
              "      <td>726</td>\n",
              "      <td>fall</td>\n",
              "      <td>1998</td>\n",
              "    </tr>\n",
              "    <tr>\n",
              "      <th>1679</th>\n",
              "      <td>1680</td>\n",
              "      <td>Sliding Doors (1998)</td>\n",
              "      <td>1-Jan-98</td>\n",
              "      <td>http://us.imdb.com/Title?Sliding+Doors+(1998)</td>\n",
              "      <td>Parody,Adventure,Fantasy,Comedy,Mecha</td>\n",
              "      <td>702</td>\n",
              "      <td>spring</td>\n",
              "      <td>1998</td>\n",
              "    </tr>\n",
              "    <tr>\n",
              "      <th>1680</th>\n",
              "      <td>1681</td>\n",
              "      <td>You So Crazy (1994)</td>\n",
              "      <td>1-Jan-94</td>\n",
              "      <td>http://us.imdb.com/M/title-exact?You%20So%20Cr...</td>\n",
              "      <td>Comedy,School,Seinen,Slice of Life</td>\n",
              "      <td>67018</td>\n",
              "      <td>winter</td>\n",
              "      <td>1994</td>\n",
              "    </tr>\n",
              "    <tr>\n",
              "      <th>1681</th>\n",
              "      <td>1682</td>\n",
              "      <td>Scream of Stone (Schrei aus Stein) (1991)</td>\n",
              "      <td>8-Mar-96</td>\n",
              "      <td>http://us.imdb.com/M/title-exact?Schrei%20aus%...</td>\n",
              "      <td>Action,Adventure,Comedy,Magic,Romance,Sci-Fi,S...</td>\n",
              "      <td>7750</td>\n",
              "      <td>winter</td>\n",
              "      <td>1996</td>\n",
              "    </tr>\n",
              "  </tbody>\n",
              "</table>\n",
              "<p>1682 rows × 8 columns</p>\n",
              "</div>"
            ],
            "text/plain": [
              "      movie_id                                 movietitle  ...  season  year\n",
              "0            1                           Toy Story (1995)  ...  spring  1995\n",
              "1            2                           GoldenEye (1995)  ...  summer  1995\n",
              "2            3                          Four Rooms (1995)  ...  spring  1995\n",
              "3            4                          Get Shorty (1995)  ...  summer  1995\n",
              "4            5                             Copycat (1995)  ...    fall  1995\n",
              "...        ...                                        ...  ...     ...   ...\n",
              "1677      1678                          Mat' i syn (1997)  ...  summer  1998\n",
              "1678      1679                           B. Monkey (1998)  ...    fall  1998\n",
              "1679      1680                       Sliding Doors (1998)  ...  spring  1998\n",
              "1680      1681                        You So Crazy (1994)  ...  winter  1994\n",
              "1681      1682  Scream of Stone (Schrei aus Stein) (1991)  ...  winter  1996\n",
              "\n",
              "[1682 rows x 8 columns]"
            ]
          },
          "metadata": {},
          "execution_count": 9
        }
      ]
    },
    {
      "cell_type": "code",
      "metadata": {
        "colab": {
          "base_uri": "https://localhost:8080/"
        },
        "id": "pGSB84TB-3ho",
        "outputId": "d5884b0c-49cb-4185-db0c-1daab4164cb0"
      },
      "source": [
        "df_movie.shape"
      ],
      "execution_count": 10,
      "outputs": [
        {
          "output_type": "execute_result",
          "data": {
            "text/plain": [
              "(1682, 8)"
            ]
          },
          "metadata": {},
          "execution_count": 10
        }
      ]
    },
    {
      "cell_type": "code",
      "metadata": {
        "colab": {
          "base_uri": "https://localhost:8080/"
        },
        "id": "fppvi6uC97ZN",
        "outputId": "6a57d558-204d-4a67-8d37-270c8802d7b8"
      },
      "source": [
        "df_movie.info()"
      ],
      "execution_count": 11,
      "outputs": [
        {
          "output_type": "stream",
          "name": "stdout",
          "text": [
            "<class 'pandas.core.frame.DataFrame'>\n",
            "RangeIndex: 1682 entries, 0 to 1681\n",
            "Data columns (total 8 columns):\n",
            " #   Column       Non-Null Count  Dtype \n",
            "---  ------       --------------  ----- \n",
            " 0   movie_id     1682 non-null   int64 \n",
            " 1   movietitle   1682 non-null   object\n",
            " 2   releasedate  1681 non-null   object\n",
            " 3   IMDB         1679 non-null   object\n",
            " 4   genres       1682 non-null   object\n",
            " 5   members      1682 non-null   int64 \n",
            " 6   season       1682 non-null   object\n",
            " 7   year         1682 non-null   int64 \n",
            "dtypes: int64(3), object(5)\n",
            "memory usage: 105.2+ KB\n"
          ]
        }
      ]
    },
    {
      "cell_type": "code",
      "metadata": {
        "id": "-kp66oYY97d8"
      },
      "source": [
        "df_movie.dropna(inplace=True)"
      ],
      "execution_count": 12,
      "outputs": []
    },
    {
      "cell_type": "code",
      "metadata": {
        "colab": {
          "base_uri": "https://localhost:8080/"
        },
        "id": "-A1lkTVg97hS",
        "outputId": "c87804df-b225-4797-a413-21ead9e9a709"
      },
      "source": [
        "df_movie.shape"
      ],
      "execution_count": 13,
      "outputs": [
        {
          "output_type": "execute_result",
          "data": {
            "text/plain": [
              "(1679, 8)"
            ]
          },
          "metadata": {},
          "execution_count": 13
        }
      ]
    },
    {
      "cell_type": "code",
      "metadata": {
        "colab": {
          "base_uri": "https://localhost:8080/"
        },
        "id": "uYPcqYaaHONL",
        "outputId": "77bd86e2-ecb2-44fa-be1e-454b3eaaedf0"
      },
      "source": [
        "df_movie.isnull().sum()"
      ],
      "execution_count": 14,
      "outputs": [
        {
          "output_type": "execute_result",
          "data": {
            "text/plain": [
              "movie_id       0\n",
              "movietitle     0\n",
              "releasedate    0\n",
              "IMDB           0\n",
              "genres         0\n",
              "members        0\n",
              "season         0\n",
              "year           0\n",
              "dtype: int64"
            ]
          },
          "metadata": {},
          "execution_count": 14
        }
      ]
    },
    {
      "cell_type": "markdown",
      "metadata": {
        "id": "nvyT0GTI_O6e"
      },
      "source": [
        "rows containing null values are dropped from the dataset movie.csv\n",
        "\n",
        "we are not using fillna because the columns :- releasedate and IMDB cannot be filled using the column mean because these columns do not have numerical values"
      ]
    },
    {
      "cell_type": "code",
      "metadata": {
        "id": "Y9IdHbdqzZUN"
      },
      "source": [
        "df_movie[['genre1','genre2','genre3','genre4','genre5','genre6']] = df_movie['genres'].str.split(',', 5,expand=True)\n",
        "df_movie.drop(columns=['genres'],inplace=True)"
      ],
      "execution_count": 15,
      "outputs": []
    },
    {
      "cell_type": "markdown",
      "metadata": {
        "id": "b6AVuDibAj_Z"
      },
      "source": [
        "There are various genres available for a single movie_id\n",
        "\n",
        "Therefore we split the column \"genres\" into different 6 different columns each containing a single genre"
      ]
    },
    {
      "cell_type": "code",
      "metadata": {
        "colab": {
          "base_uri": "https://localhost:8080/",
          "height": 0
        },
        "id": "YNanQGag70H-",
        "outputId": "1b8a3a57-e315-4d0d-ccb5-2b87c38728a9"
      },
      "source": [
        "df_movie"
      ],
      "execution_count": 16,
      "outputs": [
        {
          "output_type": "execute_result",
          "data": {
            "text/html": [
              "<div>\n",
              "<style scoped>\n",
              "    .dataframe tbody tr th:only-of-type {\n",
              "        vertical-align: middle;\n",
              "    }\n",
              "\n",
              "    .dataframe tbody tr th {\n",
              "        vertical-align: top;\n",
              "    }\n",
              "\n",
              "    .dataframe thead th {\n",
              "        text-align: right;\n",
              "    }\n",
              "</style>\n",
              "<table border=\"1\" class=\"dataframe\">\n",
              "  <thead>\n",
              "    <tr style=\"text-align: right;\">\n",
              "      <th></th>\n",
              "      <th>movie_id</th>\n",
              "      <th>movietitle</th>\n",
              "      <th>releasedate</th>\n",
              "      <th>IMDB</th>\n",
              "      <th>members</th>\n",
              "      <th>season</th>\n",
              "      <th>year</th>\n",
              "      <th>genre1</th>\n",
              "      <th>genre2</th>\n",
              "      <th>genre3</th>\n",
              "      <th>genre4</th>\n",
              "      <th>genre5</th>\n",
              "      <th>genre6</th>\n",
              "    </tr>\n",
              "  </thead>\n",
              "  <tbody>\n",
              "    <tr>\n",
              "      <th>0</th>\n",
              "      <td>1</td>\n",
              "      <td>Toy Story (1995)</td>\n",
              "      <td>1-Jan-95</td>\n",
              "      <td>http://us.imdb.com/M/title-exact?Toy%20Story%2...</td>\n",
              "      <td>1324054</td>\n",
              "      <td>spring</td>\n",
              "      <td>1995</td>\n",
              "      <td>Action</td>\n",
              "      <td>Adventure</td>\n",
              "      <td>Comedy</td>\n",
              "      <td>Drama</td>\n",
              "      <td>Sci-Fi</td>\n",
              "      <td>Space</td>\n",
              "    </tr>\n",
              "    <tr>\n",
              "      <th>1</th>\n",
              "      <td>2</td>\n",
              "      <td>GoldenEye (1995)</td>\n",
              "      <td>1-Jan-95</td>\n",
              "      <td>http://us.imdb.com/M/title-exact?GoldenEye%20(...</td>\n",
              "      <td>284827</td>\n",
              "      <td>summer</td>\n",
              "      <td>1995</td>\n",
              "      <td>Action</td>\n",
              "      <td>Drama</td>\n",
              "      <td>Mystery</td>\n",
              "      <td>Sci-Fi</td>\n",
              "      <td>Space</td>\n",
              "      <td>None</td>\n",
              "    </tr>\n",
              "    <tr>\n",
              "      <th>2</th>\n",
              "      <td>3</td>\n",
              "      <td>Four Rooms (1995)</td>\n",
              "      <td>1-Jan-95</td>\n",
              "      <td>http://us.imdb.com/M/title-exact?Four%20Rooms%...</td>\n",
              "      <td>578887</td>\n",
              "      <td>spring</td>\n",
              "      <td>1995</td>\n",
              "      <td>Action</td>\n",
              "      <td>Sci-Fi</td>\n",
              "      <td>Adventure</td>\n",
              "      <td>Comedy</td>\n",
              "      <td>Drama</td>\n",
              "      <td>Shounen</td>\n",
              "    </tr>\n",
              "    <tr>\n",
              "      <th>3</th>\n",
              "      <td>4</td>\n",
              "      <td>Get Shorty (1995)</td>\n",
              "      <td>1-Jan-95</td>\n",
              "      <td>http://us.imdb.com/M/title-exact?Get%20Shorty%...</td>\n",
              "      <td>96487</td>\n",
              "      <td>summer</td>\n",
              "      <td>1995</td>\n",
              "      <td>Action</td>\n",
              "      <td>Mystery</td>\n",
              "      <td>Police</td>\n",
              "      <td>Supernatural</td>\n",
              "      <td>Drama</td>\n",
              "      <td>Magic</td>\n",
              "    </tr>\n",
              "    <tr>\n",
              "      <th>4</th>\n",
              "      <td>5</td>\n",
              "      <td>Copycat (1995)</td>\n",
              "      <td>1-Jan-95</td>\n",
              "      <td>http://us.imdb.com/M/title-exact?Copycat%20(1995)</td>\n",
              "      <td>13450</td>\n",
              "      <td>fall</td>\n",
              "      <td>1995</td>\n",
              "      <td>Adventure</td>\n",
              "      <td>Fantasy</td>\n",
              "      <td>Shounen</td>\n",
              "      <td>Supernatural</td>\n",
              "      <td>None</td>\n",
              "      <td>None</td>\n",
              "    </tr>\n",
              "    <tr>\n",
              "      <th>...</th>\n",
              "      <td>...</td>\n",
              "      <td>...</td>\n",
              "      <td>...</td>\n",
              "      <td>...</td>\n",
              "      <td>...</td>\n",
              "      <td>...</td>\n",
              "      <td>...</td>\n",
              "      <td>...</td>\n",
              "      <td>...</td>\n",
              "      <td>...</td>\n",
              "      <td>...</td>\n",
              "      <td>...</td>\n",
              "      <td>...</td>\n",
              "    </tr>\n",
              "    <tr>\n",
              "      <th>1677</th>\n",
              "      <td>1678</td>\n",
              "      <td>Mat' i syn (1997)</td>\n",
              "      <td>6-Feb-98</td>\n",
              "      <td>http://us.imdb.com/M/title-exact?Mat%27+i+syn+...</td>\n",
              "      <td>1072</td>\n",
              "      <td>summer</td>\n",
              "      <td>1998</td>\n",
              "      <td>Action</td>\n",
              "      <td>Adventure</td>\n",
              "      <td>Fantasy</td>\n",
              "      <td>Mecha</td>\n",
              "      <td>None</td>\n",
              "      <td>None</td>\n",
              "    </tr>\n",
              "    <tr>\n",
              "      <th>1678</th>\n",
              "      <td>1679</td>\n",
              "      <td>B. Monkey (1998)</td>\n",
              "      <td>6-Feb-98</td>\n",
              "      <td>http://us.imdb.com/M/title-exact?B%2E+Monkey+(...</td>\n",
              "      <td>726</td>\n",
              "      <td>fall</td>\n",
              "      <td>1998</td>\n",
              "      <td>Action</td>\n",
              "      <td>Adventure</td>\n",
              "      <td>Fantasy</td>\n",
              "      <td>Mecha</td>\n",
              "      <td>None</td>\n",
              "      <td>None</td>\n",
              "    </tr>\n",
              "    <tr>\n",
              "      <th>1679</th>\n",
              "      <td>1680</td>\n",
              "      <td>Sliding Doors (1998)</td>\n",
              "      <td>1-Jan-98</td>\n",
              "      <td>http://us.imdb.com/Title?Sliding+Doors+(1998)</td>\n",
              "      <td>702</td>\n",
              "      <td>spring</td>\n",
              "      <td>1998</td>\n",
              "      <td>Parody</td>\n",
              "      <td>Adventure</td>\n",
              "      <td>Fantasy</td>\n",
              "      <td>Comedy</td>\n",
              "      <td>Mecha</td>\n",
              "      <td>None</td>\n",
              "    </tr>\n",
              "    <tr>\n",
              "      <th>1680</th>\n",
              "      <td>1681</td>\n",
              "      <td>You So Crazy (1994)</td>\n",
              "      <td>1-Jan-94</td>\n",
              "      <td>http://us.imdb.com/M/title-exact?You%20So%20Cr...</td>\n",
              "      <td>67018</td>\n",
              "      <td>winter</td>\n",
              "      <td>1994</td>\n",
              "      <td>Comedy</td>\n",
              "      <td>School</td>\n",
              "      <td>Seinen</td>\n",
              "      <td>Slice of Life</td>\n",
              "      <td>None</td>\n",
              "      <td>None</td>\n",
              "    </tr>\n",
              "    <tr>\n",
              "      <th>1681</th>\n",
              "      <td>1682</td>\n",
              "      <td>Scream of Stone (Schrei aus Stein) (1991)</td>\n",
              "      <td>8-Mar-96</td>\n",
              "      <td>http://us.imdb.com/M/title-exact?Schrei%20aus%...</td>\n",
              "      <td>7750</td>\n",
              "      <td>winter</td>\n",
              "      <td>1996</td>\n",
              "      <td>Action</td>\n",
              "      <td>Adventure</td>\n",
              "      <td>Comedy</td>\n",
              "      <td>Magic</td>\n",
              "      <td>Romance</td>\n",
              "      <td>Sci-Fi,Shoujo</td>\n",
              "    </tr>\n",
              "  </tbody>\n",
              "</table>\n",
              "<p>1679 rows × 13 columns</p>\n",
              "</div>"
            ],
            "text/plain": [
              "      movie_id  ...         genre6\n",
              "0            1  ...          Space\n",
              "1            2  ...           None\n",
              "2            3  ...        Shounen\n",
              "3            4  ...          Magic\n",
              "4            5  ...           None\n",
              "...        ...  ...            ...\n",
              "1677      1678  ...           None\n",
              "1678      1679  ...           None\n",
              "1679      1680  ...           None\n",
              "1680      1681  ...           None\n",
              "1681      1682  ...  Sci-Fi,Shoujo\n",
              "\n",
              "[1679 rows x 13 columns]"
            ]
          },
          "metadata": {},
          "execution_count": 16
        }
      ]
    },
    {
      "cell_type": "code",
      "metadata": {
        "colab": {
          "base_uri": "https://localhost:8080/"
        },
        "id": "Eppf9Qe775r8",
        "outputId": "815041da-af43-4844-abb9-2674fac69165"
      },
      "source": [
        "df_movie.isnull().sum()"
      ],
      "execution_count": 17,
      "outputs": [
        {
          "output_type": "execute_result",
          "data": {
            "text/plain": [
              "movie_id          0\n",
              "movietitle        0\n",
              "releasedate       0\n",
              "IMDB              0\n",
              "members           0\n",
              "season            0\n",
              "year              0\n",
              "genre1            0\n",
              "genre2           62\n",
              "genre3          196\n",
              "genre4          489\n",
              "genre5          884\n",
              "genre6         1280\n",
              "dtype: int64"
            ]
          },
          "metadata": {},
          "execution_count": 17
        }
      ]
    },
    {
      "cell_type": "markdown",
      "metadata": {
        "id": "3EmOANEPBJSf"
      },
      "source": [
        "After splitting the column \"genres\" into 6 differnet columns , we have many null values in the columns :- genre2,genre3, genre4,genre5, genre6\n",
        "\n",
        "This indicates that , not all rows have more than one genre \n",
        "\n",
        "Hence we are dropping these 5 columns\n"
      ]
    },
    {
      "cell_type": "code",
      "metadata": {
        "id": "am5EyFmV8AiA"
      },
      "source": [
        "df_movie.drop(columns=['genre2','genre3','genre4','genre5','genre6','season','members'],inplace=True)"
      ],
      "execution_count": 18,
      "outputs": []
    },
    {
      "cell_type": "code",
      "metadata": {
        "colab": {
          "base_uri": "https://localhost:8080/",
          "height": 0
        },
        "id": "HDPPJ-Zg8Cno",
        "outputId": "ac580222-4034-40ad-d662-4f6ff1589e2b"
      },
      "source": [
        "df_movie.head(3)"
      ],
      "execution_count": 19,
      "outputs": [
        {
          "output_type": "execute_result",
          "data": {
            "text/html": [
              "<div>\n",
              "<style scoped>\n",
              "    .dataframe tbody tr th:only-of-type {\n",
              "        vertical-align: middle;\n",
              "    }\n",
              "\n",
              "    .dataframe tbody tr th {\n",
              "        vertical-align: top;\n",
              "    }\n",
              "\n",
              "    .dataframe thead th {\n",
              "        text-align: right;\n",
              "    }\n",
              "</style>\n",
              "<table border=\"1\" class=\"dataframe\">\n",
              "  <thead>\n",
              "    <tr style=\"text-align: right;\">\n",
              "      <th></th>\n",
              "      <th>movie_id</th>\n",
              "      <th>movietitle</th>\n",
              "      <th>releasedate</th>\n",
              "      <th>IMDB</th>\n",
              "      <th>year</th>\n",
              "      <th>genre1</th>\n",
              "    </tr>\n",
              "  </thead>\n",
              "  <tbody>\n",
              "    <tr>\n",
              "      <th>0</th>\n",
              "      <td>1</td>\n",
              "      <td>Toy Story (1995)</td>\n",
              "      <td>1-Jan-95</td>\n",
              "      <td>http://us.imdb.com/M/title-exact?Toy%20Story%2...</td>\n",
              "      <td>1995</td>\n",
              "      <td>Action</td>\n",
              "    </tr>\n",
              "    <tr>\n",
              "      <th>1</th>\n",
              "      <td>2</td>\n",
              "      <td>GoldenEye (1995)</td>\n",
              "      <td>1-Jan-95</td>\n",
              "      <td>http://us.imdb.com/M/title-exact?GoldenEye%20(...</td>\n",
              "      <td>1995</td>\n",
              "      <td>Action</td>\n",
              "    </tr>\n",
              "    <tr>\n",
              "      <th>2</th>\n",
              "      <td>3</td>\n",
              "      <td>Four Rooms (1995)</td>\n",
              "      <td>1-Jan-95</td>\n",
              "      <td>http://us.imdb.com/M/title-exact?Four%20Rooms%...</td>\n",
              "      <td>1995</td>\n",
              "      <td>Action</td>\n",
              "    </tr>\n",
              "  </tbody>\n",
              "</table>\n",
              "</div>"
            ],
            "text/plain": [
              "   movie_id         movietitle  ...  year  genre1\n",
              "0         1   Toy Story (1995)  ...  1995  Action\n",
              "1         2   GoldenEye (1995)  ...  1995  Action\n",
              "2         3  Four Rooms (1995)  ...  1995  Action\n",
              "\n",
              "[3 rows x 6 columns]"
            ]
          },
          "metadata": {},
          "execution_count": 19
        }
      ]
    },
    {
      "cell_type": "code",
      "metadata": {
        "id": "3biOCDuT8cA8"
      },
      "source": [
        "df_movie = df_movie.rename(columns={'genre1':'genre'})"
      ],
      "execution_count": 20,
      "outputs": []
    },
    {
      "cell_type": "markdown",
      "metadata": {
        "id": "gzhanTKiDgF6"
      },
      "source": [
        "We have renamed the column for our convenience and easy usage in the  latter part of the project"
      ]
    },
    {
      "cell_type": "code",
      "metadata": {
        "colab": {
          "base_uri": "https://localhost:8080/",
          "height": 0
        },
        "id": "yrY9MapG8ioX",
        "outputId": "349347d4-38e0-4409-961d-13bd8afba392"
      },
      "source": [
        "df_movie.head()"
      ],
      "execution_count": 21,
      "outputs": [
        {
          "output_type": "execute_result",
          "data": {
            "text/html": [
              "<div>\n",
              "<style scoped>\n",
              "    .dataframe tbody tr th:only-of-type {\n",
              "        vertical-align: middle;\n",
              "    }\n",
              "\n",
              "    .dataframe tbody tr th {\n",
              "        vertical-align: top;\n",
              "    }\n",
              "\n",
              "    .dataframe thead th {\n",
              "        text-align: right;\n",
              "    }\n",
              "</style>\n",
              "<table border=\"1\" class=\"dataframe\">\n",
              "  <thead>\n",
              "    <tr style=\"text-align: right;\">\n",
              "      <th></th>\n",
              "      <th>movie_id</th>\n",
              "      <th>movietitle</th>\n",
              "      <th>releasedate</th>\n",
              "      <th>IMDB</th>\n",
              "      <th>year</th>\n",
              "      <th>genre</th>\n",
              "    </tr>\n",
              "  </thead>\n",
              "  <tbody>\n",
              "    <tr>\n",
              "      <th>0</th>\n",
              "      <td>1</td>\n",
              "      <td>Toy Story (1995)</td>\n",
              "      <td>1-Jan-95</td>\n",
              "      <td>http://us.imdb.com/M/title-exact?Toy%20Story%2...</td>\n",
              "      <td>1995</td>\n",
              "      <td>Action</td>\n",
              "    </tr>\n",
              "    <tr>\n",
              "      <th>1</th>\n",
              "      <td>2</td>\n",
              "      <td>GoldenEye (1995)</td>\n",
              "      <td>1-Jan-95</td>\n",
              "      <td>http://us.imdb.com/M/title-exact?GoldenEye%20(...</td>\n",
              "      <td>1995</td>\n",
              "      <td>Action</td>\n",
              "    </tr>\n",
              "    <tr>\n",
              "      <th>2</th>\n",
              "      <td>3</td>\n",
              "      <td>Four Rooms (1995)</td>\n",
              "      <td>1-Jan-95</td>\n",
              "      <td>http://us.imdb.com/M/title-exact?Four%20Rooms%...</td>\n",
              "      <td>1995</td>\n",
              "      <td>Action</td>\n",
              "    </tr>\n",
              "    <tr>\n",
              "      <th>3</th>\n",
              "      <td>4</td>\n",
              "      <td>Get Shorty (1995)</td>\n",
              "      <td>1-Jan-95</td>\n",
              "      <td>http://us.imdb.com/M/title-exact?Get%20Shorty%...</td>\n",
              "      <td>1995</td>\n",
              "      <td>Action</td>\n",
              "    </tr>\n",
              "    <tr>\n",
              "      <th>4</th>\n",
              "      <td>5</td>\n",
              "      <td>Copycat (1995)</td>\n",
              "      <td>1-Jan-95</td>\n",
              "      <td>http://us.imdb.com/M/title-exact?Copycat%20(1995)</td>\n",
              "      <td>1995</td>\n",
              "      <td>Adventure</td>\n",
              "    </tr>\n",
              "  </tbody>\n",
              "</table>\n",
              "</div>"
            ],
            "text/plain": [
              "   movie_id         movietitle  ...  year      genre\n",
              "0         1   Toy Story (1995)  ...  1995     Action\n",
              "1         2   GoldenEye (1995)  ...  1995     Action\n",
              "2         3  Four Rooms (1995)  ...  1995     Action\n",
              "3         4  Get Shorty (1995)  ...  1995     Action\n",
              "4         5     Copycat (1995)  ...  1995  Adventure\n",
              "\n",
              "[5 rows x 6 columns]"
            ]
          },
          "metadata": {},
          "execution_count": 21
        }
      ]
    },
    {
      "cell_type": "code",
      "metadata": {
        "id": "7-fKXq5rGufb"
      },
      "source": [
        "df_movie.drop(columns=['IMDB'],inplace=True)"
      ],
      "execution_count": 22,
      "outputs": []
    },
    {
      "cell_type": "code",
      "metadata": {
        "colab": {
          "base_uri": "https://localhost:8080/"
        },
        "id": "rcGJcFCq8pd4",
        "outputId": "96a79967-e756-44d0-f08a-733c70bc9b8e"
      },
      "source": [
        "df_movie.isnull().sum()"
      ],
      "execution_count": 23,
      "outputs": [
        {
          "output_type": "execute_result",
          "data": {
            "text/plain": [
              "movie_id       0\n",
              "movietitle     0\n",
              "releasedate    0\n",
              "year           0\n",
              "genre          0\n",
              "dtype: int64"
            ]
          },
          "metadata": {},
          "execution_count": 23
        }
      ]
    },
    {
      "cell_type": "markdown",
      "metadata": {
        "id": "d4fPxFYcEKUk"
      },
      "source": [
        "All the null values have been removed successfully"
      ]
    },
    {
      "cell_type": "code",
      "metadata": {
        "colab": {
          "base_uri": "https://localhost:8080/",
          "height": 0
        },
        "id": "fdm_hdHmGc2y",
        "outputId": "4cdb7388-71ee-460d-c5d2-96f4e2b0e4b8"
      },
      "source": [
        "df_user.head()"
      ],
      "execution_count": 24,
      "outputs": [
        {
          "output_type": "execute_result",
          "data": {
            "text/html": [
              "<div>\n",
              "<style scoped>\n",
              "    .dataframe tbody tr th:only-of-type {\n",
              "        vertical-align: middle;\n",
              "    }\n",
              "\n",
              "    .dataframe tbody tr th {\n",
              "        vertical-align: top;\n",
              "    }\n",
              "\n",
              "    .dataframe thead th {\n",
              "        text-align: right;\n",
              "    }\n",
              "</style>\n",
              "<table border=\"1\" class=\"dataframe\">\n",
              "  <thead>\n",
              "    <tr style=\"text-align: right;\">\n",
              "      <th></th>\n",
              "      <th>user_id</th>\n",
              "      <th>age</th>\n",
              "      <th>gender</th>\n",
              "      <th>occupation</th>\n",
              "      <th>zipcode</th>\n",
              "    </tr>\n",
              "  </thead>\n",
              "  <tbody>\n",
              "    <tr>\n",
              "      <th>0</th>\n",
              "      <td>1</td>\n",
              "      <td>24</td>\n",
              "      <td>M</td>\n",
              "      <td>technician</td>\n",
              "      <td>85711</td>\n",
              "    </tr>\n",
              "    <tr>\n",
              "      <th>1</th>\n",
              "      <td>2</td>\n",
              "      <td>53</td>\n",
              "      <td>F</td>\n",
              "      <td>other</td>\n",
              "      <td>94043</td>\n",
              "    </tr>\n",
              "    <tr>\n",
              "      <th>2</th>\n",
              "      <td>3</td>\n",
              "      <td>23</td>\n",
              "      <td>M</td>\n",
              "      <td>writer</td>\n",
              "      <td>32067</td>\n",
              "    </tr>\n",
              "    <tr>\n",
              "      <th>3</th>\n",
              "      <td>4</td>\n",
              "      <td>24</td>\n",
              "      <td>M</td>\n",
              "      <td>technician</td>\n",
              "      <td>43537</td>\n",
              "    </tr>\n",
              "    <tr>\n",
              "      <th>4</th>\n",
              "      <td>5</td>\n",
              "      <td>33</td>\n",
              "      <td>F</td>\n",
              "      <td>other</td>\n",
              "      <td>15213</td>\n",
              "    </tr>\n",
              "  </tbody>\n",
              "</table>\n",
              "</div>"
            ],
            "text/plain": [
              "   user_id  age gender  occupation zipcode\n",
              "0        1   24      M  technician   85711\n",
              "1        2   53      F       other   94043\n",
              "2        3   23      M      writer   32067\n",
              "3        4   24      M  technician   43537\n",
              "4        5   33      F       other   15213"
            ]
          },
          "metadata": {},
          "execution_count": 24
        }
      ]
    },
    {
      "cell_type": "code",
      "metadata": {
        "colab": {
          "base_uri": "https://localhost:8080/"
        },
        "id": "JHzaXeVq97m4",
        "outputId": "a893f083-915b-4057-ade9-3849f98df110"
      },
      "source": [
        "df_user.shape"
      ],
      "execution_count": 25,
      "outputs": [
        {
          "output_type": "execute_result",
          "data": {
            "text/plain": [
              "(943, 5)"
            ]
          },
          "metadata": {},
          "execution_count": 25
        }
      ]
    },
    {
      "cell_type": "code",
      "metadata": {
        "colab": {
          "base_uri": "https://localhost:8080/"
        },
        "id": "F7MV1yE797ka",
        "outputId": "dc25cbba-3fe0-4b8b-f9b2-919676afd2c3"
      },
      "source": [
        "df_user.info()"
      ],
      "execution_count": 26,
      "outputs": [
        {
          "output_type": "stream",
          "name": "stdout",
          "text": [
            "<class 'pandas.core.frame.DataFrame'>\n",
            "RangeIndex: 943 entries, 0 to 942\n",
            "Data columns (total 5 columns):\n",
            " #   Column      Non-Null Count  Dtype \n",
            "---  ------      --------------  ----- \n",
            " 0   user_id     943 non-null    int64 \n",
            " 1   age         943 non-null    int64 \n",
            " 2   gender      943 non-null    object\n",
            " 3   occupation  943 non-null    object\n",
            " 4   zipcode     943 non-null    object\n",
            "dtypes: int64(2), object(3)\n",
            "memory usage: 37.0+ KB\n"
          ]
        }
      ]
    },
    {
      "cell_type": "markdown",
      "metadata": {
        "id": "CSwl1lwh_pZX"
      },
      "source": [
        "no null values in the dataset user.csv"
      ]
    },
    {
      "cell_type": "markdown",
      "metadata": {
        "id": "VS7c5ErhAJTP"
      },
      "source": [
        "# merging all the three datasets"
      ]
    },
    {
      "cell_type": "code",
      "metadata": {
        "id": "DrzxDS2X97ti"
      },
      "source": [
        "df=df_data.merge(df_user,on=\"user_id\",how=\"inner\")"
      ],
      "execution_count": 27,
      "outputs": []
    },
    {
      "cell_type": "markdown",
      "metadata": {
        "id": "fCik53AOI2u0"
      },
      "source": [
        "we have chosen the value of the how parameter to be \"inner\" , because we want to merge the datasets data.csv and user.csv with only those rows which contain same value in the column \"user_id\""
      ]
    },
    {
      "cell_type": "code",
      "metadata": {
        "colab": {
          "base_uri": "https://localhost:8080/"
        },
        "id": "Rp3G-T_xCWpT",
        "outputId": "24ff1a61-b2b2-477c-e547-95ba5bca40fd"
      },
      "source": [
        "df.shape"
      ],
      "execution_count": 28,
      "outputs": [
        {
          "output_type": "execute_result",
          "data": {
            "text/plain": [
              "(100000, 8)"
            ]
          },
          "metadata": {},
          "execution_count": 28
        }
      ]
    },
    {
      "cell_type": "code",
      "metadata": {
        "colab": {
          "base_uri": "https://localhost:8080/",
          "height": 0
        },
        "id": "Ig7fAAFk80n8",
        "outputId": "691e5947-1bd3-47d0-9268-1a474bea69e5"
      },
      "source": [
        "df"
      ],
      "execution_count": 29,
      "outputs": [
        {
          "output_type": "execute_result",
          "data": {
            "text/html": [
              "<div>\n",
              "<style scoped>\n",
              "    .dataframe tbody tr th:only-of-type {\n",
              "        vertical-align: middle;\n",
              "    }\n",
              "\n",
              "    .dataframe tbody tr th {\n",
              "        vertical-align: top;\n",
              "    }\n",
              "\n",
              "    .dataframe thead th {\n",
              "        text-align: right;\n",
              "    }\n",
              "</style>\n",
              "<table border=\"1\" class=\"dataframe\">\n",
              "  <thead>\n",
              "    <tr style=\"text-align: right;\">\n",
              "      <th></th>\n",
              "      <th>user_id</th>\n",
              "      <th>movie_id</th>\n",
              "      <th>rating</th>\n",
              "      <th>timestamp</th>\n",
              "      <th>age</th>\n",
              "      <th>gender</th>\n",
              "      <th>occupation</th>\n",
              "      <th>zipcode</th>\n",
              "    </tr>\n",
              "  </thead>\n",
              "  <tbody>\n",
              "    <tr>\n",
              "      <th>0</th>\n",
              "      <td>196</td>\n",
              "      <td>242</td>\n",
              "      <td>3</td>\n",
              "      <td>881250949</td>\n",
              "      <td>49</td>\n",
              "      <td>M</td>\n",
              "      <td>writer</td>\n",
              "      <td>55105</td>\n",
              "    </tr>\n",
              "    <tr>\n",
              "      <th>1</th>\n",
              "      <td>196</td>\n",
              "      <td>393</td>\n",
              "      <td>4</td>\n",
              "      <td>881251863</td>\n",
              "      <td>49</td>\n",
              "      <td>M</td>\n",
              "      <td>writer</td>\n",
              "      <td>55105</td>\n",
              "    </tr>\n",
              "    <tr>\n",
              "      <th>2</th>\n",
              "      <td>196</td>\n",
              "      <td>381</td>\n",
              "      <td>4</td>\n",
              "      <td>881251728</td>\n",
              "      <td>49</td>\n",
              "      <td>M</td>\n",
              "      <td>writer</td>\n",
              "      <td>55105</td>\n",
              "    </tr>\n",
              "    <tr>\n",
              "      <th>3</th>\n",
              "      <td>196</td>\n",
              "      <td>251</td>\n",
              "      <td>3</td>\n",
              "      <td>881251274</td>\n",
              "      <td>49</td>\n",
              "      <td>M</td>\n",
              "      <td>writer</td>\n",
              "      <td>55105</td>\n",
              "    </tr>\n",
              "    <tr>\n",
              "      <th>4</th>\n",
              "      <td>196</td>\n",
              "      <td>655</td>\n",
              "      <td>5</td>\n",
              "      <td>881251793</td>\n",
              "      <td>49</td>\n",
              "      <td>M</td>\n",
              "      <td>writer</td>\n",
              "      <td>55105</td>\n",
              "    </tr>\n",
              "    <tr>\n",
              "      <th>...</th>\n",
              "      <td>...</td>\n",
              "      <td>...</td>\n",
              "      <td>...</td>\n",
              "      <td>...</td>\n",
              "      <td>...</td>\n",
              "      <td>...</td>\n",
              "      <td>...</td>\n",
              "      <td>...</td>\n",
              "    </tr>\n",
              "    <tr>\n",
              "      <th>99995</th>\n",
              "      <td>941</td>\n",
              "      <td>919</td>\n",
              "      <td>5</td>\n",
              "      <td>875048887</td>\n",
              "      <td>20</td>\n",
              "      <td>M</td>\n",
              "      <td>student</td>\n",
              "      <td>97229</td>\n",
              "    </tr>\n",
              "    <tr>\n",
              "      <th>99996</th>\n",
              "      <td>941</td>\n",
              "      <td>273</td>\n",
              "      <td>3</td>\n",
              "      <td>875049038</td>\n",
              "      <td>20</td>\n",
              "      <td>M</td>\n",
              "      <td>student</td>\n",
              "      <td>97229</td>\n",
              "    </tr>\n",
              "    <tr>\n",
              "      <th>99997</th>\n",
              "      <td>941</td>\n",
              "      <td>1</td>\n",
              "      <td>5</td>\n",
              "      <td>875049144</td>\n",
              "      <td>20</td>\n",
              "      <td>M</td>\n",
              "      <td>student</td>\n",
              "      <td>97229</td>\n",
              "    </tr>\n",
              "    <tr>\n",
              "      <th>99998</th>\n",
              "      <td>941</td>\n",
              "      <td>294</td>\n",
              "      <td>4</td>\n",
              "      <td>875048532</td>\n",
              "      <td>20</td>\n",
              "      <td>M</td>\n",
              "      <td>student</td>\n",
              "      <td>97229</td>\n",
              "    </tr>\n",
              "    <tr>\n",
              "      <th>99999</th>\n",
              "      <td>941</td>\n",
              "      <td>1007</td>\n",
              "      <td>4</td>\n",
              "      <td>875049077</td>\n",
              "      <td>20</td>\n",
              "      <td>M</td>\n",
              "      <td>student</td>\n",
              "      <td>97229</td>\n",
              "    </tr>\n",
              "  </tbody>\n",
              "</table>\n",
              "<p>100000 rows × 8 columns</p>\n",
              "</div>"
            ],
            "text/plain": [
              "       user_id  movie_id  rating  timestamp  age gender occupation zipcode\n",
              "0          196       242       3  881250949   49      M     writer   55105\n",
              "1          196       393       4  881251863   49      M     writer   55105\n",
              "2          196       381       4  881251728   49      M     writer   55105\n",
              "3          196       251       3  881251274   49      M     writer   55105\n",
              "4          196       655       5  881251793   49      M     writer   55105\n",
              "...        ...       ...     ...        ...  ...    ...        ...     ...\n",
              "99995      941       919       5  875048887   20      M    student   97229\n",
              "99996      941       273       3  875049038   20      M    student   97229\n",
              "99997      941         1       5  875049144   20      M    student   97229\n",
              "99998      941       294       4  875048532   20      M    student   97229\n",
              "99999      941      1007       4  875049077   20      M    student   97229\n",
              "\n",
              "[100000 rows x 8 columns]"
            ]
          },
          "metadata": {},
          "execution_count": 29
        }
      ]
    },
    {
      "cell_type": "code",
      "metadata": {
        "colab": {
          "base_uri": "https://localhost:8080/"
        },
        "id": "bmQaKaEhCyA9",
        "outputId": "8727fb66-9a55-4d66-cba6-8273126249d0"
      },
      "source": [
        "df.isnull().sum()"
      ],
      "execution_count": 30,
      "outputs": [
        {
          "output_type": "execute_result",
          "data": {
            "text/plain": [
              "user_id       0\n",
              "movie_id      0\n",
              "rating        0\n",
              "timestamp     0\n",
              "age           0\n",
              "gender        0\n",
              "occupation    0\n",
              "zipcode       0\n",
              "dtype: int64"
            ]
          },
          "metadata": {},
          "execution_count": 30
        }
      ]
    },
    {
      "cell_type": "markdown",
      "metadata": {
        "id": "mfFim-6iJplw"
      },
      "source": [
        "The merged dataset df does not contain any null values"
      ]
    },
    {
      "cell_type": "code",
      "metadata": {
        "id": "xgOpxc5sCocB"
      },
      "source": [
        "df1=df.merge(df_movie,on=\"movie_id\",how=\"inner\")"
      ],
      "execution_count": 31,
      "outputs": []
    },
    {
      "cell_type": "markdown",
      "metadata": {
        "id": "UWCG7w8vKIGy"
      },
      "source": [
        "we have chosen the value of the how parameter to be \"inner\" , because we want to merge the dataset movie.csv with the earlier merged dataframe df upon only those rows which contain same value in the column \"movie__id\""
      ]
    },
    {
      "cell_type": "code",
      "metadata": {
        "colab": {
          "base_uri": "https://localhost:8080/"
        },
        "id": "dZZW-DmxCzfa",
        "outputId": "5b4a6af8-eefe-452f-d687-6b76175cb6e6"
      },
      "source": [
        "df1.shape"
      ],
      "execution_count": 32,
      "outputs": [
        {
          "output_type": "execute_result",
          "data": {
            "text/plain": [
              "(99987, 12)"
            ]
          },
          "metadata": {},
          "execution_count": 32
        }
      ]
    },
    {
      "cell_type": "code",
      "metadata": {
        "colab": {
          "base_uri": "https://localhost:8080/",
          "height": 0
        },
        "id": "HNe-sG1U83nL",
        "outputId": "f9fe4efb-e9ba-4cc0-b28a-1f225aa8eeec"
      },
      "source": [
        "df1"
      ],
      "execution_count": 33,
      "outputs": [
        {
          "output_type": "execute_result",
          "data": {
            "text/html": [
              "<div>\n",
              "<style scoped>\n",
              "    .dataframe tbody tr th:only-of-type {\n",
              "        vertical-align: middle;\n",
              "    }\n",
              "\n",
              "    .dataframe tbody tr th {\n",
              "        vertical-align: top;\n",
              "    }\n",
              "\n",
              "    .dataframe thead th {\n",
              "        text-align: right;\n",
              "    }\n",
              "</style>\n",
              "<table border=\"1\" class=\"dataframe\">\n",
              "  <thead>\n",
              "    <tr style=\"text-align: right;\">\n",
              "      <th></th>\n",
              "      <th>user_id</th>\n",
              "      <th>movie_id</th>\n",
              "      <th>rating</th>\n",
              "      <th>timestamp</th>\n",
              "      <th>age</th>\n",
              "      <th>gender</th>\n",
              "      <th>occupation</th>\n",
              "      <th>zipcode</th>\n",
              "      <th>movietitle</th>\n",
              "      <th>releasedate</th>\n",
              "      <th>year</th>\n",
              "      <th>genre</th>\n",
              "    </tr>\n",
              "  </thead>\n",
              "  <tbody>\n",
              "    <tr>\n",
              "      <th>0</th>\n",
              "      <td>196</td>\n",
              "      <td>242</td>\n",
              "      <td>3</td>\n",
              "      <td>881250949</td>\n",
              "      <td>49</td>\n",
              "      <td>M</td>\n",
              "      <td>writer</td>\n",
              "      <td>55105</td>\n",
              "      <td>Kolya (1996)</td>\n",
              "      <td>24-Jan-97</td>\n",
              "      <td>1997</td>\n",
              "      <td>Comedy</td>\n",
              "    </tr>\n",
              "    <tr>\n",
              "      <th>1</th>\n",
              "      <td>305</td>\n",
              "      <td>242</td>\n",
              "      <td>5</td>\n",
              "      <td>886307828</td>\n",
              "      <td>23</td>\n",
              "      <td>M</td>\n",
              "      <td>programmer</td>\n",
              "      <td>94086</td>\n",
              "      <td>Kolya (1996)</td>\n",
              "      <td>24-Jan-97</td>\n",
              "      <td>1997</td>\n",
              "      <td>Comedy</td>\n",
              "    </tr>\n",
              "    <tr>\n",
              "      <th>2</th>\n",
              "      <td>6</td>\n",
              "      <td>242</td>\n",
              "      <td>4</td>\n",
              "      <td>883268170</td>\n",
              "      <td>42</td>\n",
              "      <td>M</td>\n",
              "      <td>executive</td>\n",
              "      <td>98101</td>\n",
              "      <td>Kolya (1996)</td>\n",
              "      <td>24-Jan-97</td>\n",
              "      <td>1997</td>\n",
              "      <td>Comedy</td>\n",
              "    </tr>\n",
              "    <tr>\n",
              "      <th>3</th>\n",
              "      <td>234</td>\n",
              "      <td>242</td>\n",
              "      <td>4</td>\n",
              "      <td>891033261</td>\n",
              "      <td>60</td>\n",
              "      <td>M</td>\n",
              "      <td>retired</td>\n",
              "      <td>94702</td>\n",
              "      <td>Kolya (1996)</td>\n",
              "      <td>24-Jan-97</td>\n",
              "      <td>1997</td>\n",
              "      <td>Comedy</td>\n",
              "    </tr>\n",
              "    <tr>\n",
              "      <th>4</th>\n",
              "      <td>63</td>\n",
              "      <td>242</td>\n",
              "      <td>3</td>\n",
              "      <td>875747190</td>\n",
              "      <td>31</td>\n",
              "      <td>M</td>\n",
              "      <td>marketing</td>\n",
              "      <td>75240</td>\n",
              "      <td>Kolya (1996)</td>\n",
              "      <td>24-Jan-97</td>\n",
              "      <td>1997</td>\n",
              "      <td>Comedy</td>\n",
              "    </tr>\n",
              "    <tr>\n",
              "      <th>...</th>\n",
              "      <td>...</td>\n",
              "      <td>...</td>\n",
              "      <td>...</td>\n",
              "      <td>...</td>\n",
              "      <td>...</td>\n",
              "      <td>...</td>\n",
              "      <td>...</td>\n",
              "      <td>...</td>\n",
              "      <td>...</td>\n",
              "      <td>...</td>\n",
              "      <td>...</td>\n",
              "      <td>...</td>\n",
              "    </tr>\n",
              "    <tr>\n",
              "      <th>99982</th>\n",
              "      <td>863</td>\n",
              "      <td>1679</td>\n",
              "      <td>3</td>\n",
              "      <td>889289491</td>\n",
              "      <td>17</td>\n",
              "      <td>M</td>\n",
              "      <td>student</td>\n",
              "      <td>60089</td>\n",
              "      <td>B. Monkey (1998)</td>\n",
              "      <td>6-Feb-98</td>\n",
              "      <td>1998</td>\n",
              "      <td>Action</td>\n",
              "    </tr>\n",
              "    <tr>\n",
              "      <th>99983</th>\n",
              "      <td>863</td>\n",
              "      <td>1678</td>\n",
              "      <td>1</td>\n",
              "      <td>889289570</td>\n",
              "      <td>17</td>\n",
              "      <td>M</td>\n",
              "      <td>student</td>\n",
              "      <td>60089</td>\n",
              "      <td>Mat' i syn (1997)</td>\n",
              "      <td>6-Feb-98</td>\n",
              "      <td>1998</td>\n",
              "      <td>Action</td>\n",
              "    </tr>\n",
              "    <tr>\n",
              "      <th>99984</th>\n",
              "      <td>863</td>\n",
              "      <td>1680</td>\n",
              "      <td>2</td>\n",
              "      <td>889289570</td>\n",
              "      <td>17</td>\n",
              "      <td>M</td>\n",
              "      <td>student</td>\n",
              "      <td>60089</td>\n",
              "      <td>Sliding Doors (1998)</td>\n",
              "      <td>1-Jan-98</td>\n",
              "      <td>1998</td>\n",
              "      <td>Parody</td>\n",
              "    </tr>\n",
              "    <tr>\n",
              "      <th>99985</th>\n",
              "      <td>896</td>\n",
              "      <td>1681</td>\n",
              "      <td>3</td>\n",
              "      <td>887160722</td>\n",
              "      <td>28</td>\n",
              "      <td>M</td>\n",
              "      <td>writer</td>\n",
              "      <td>91505</td>\n",
              "      <td>You So Crazy (1994)</td>\n",
              "      <td>1-Jan-94</td>\n",
              "      <td>1994</td>\n",
              "      <td>Comedy</td>\n",
              "    </tr>\n",
              "    <tr>\n",
              "      <th>99986</th>\n",
              "      <td>916</td>\n",
              "      <td>1682</td>\n",
              "      <td>3</td>\n",
              "      <td>880845755</td>\n",
              "      <td>27</td>\n",
              "      <td>M</td>\n",
              "      <td>engineer</td>\n",
              "      <td>N2L5N</td>\n",
              "      <td>Scream of Stone (Schrei aus Stein) (1991)</td>\n",
              "      <td>8-Mar-96</td>\n",
              "      <td>1996</td>\n",
              "      <td>Action</td>\n",
              "    </tr>\n",
              "  </tbody>\n",
              "</table>\n",
              "<p>99987 rows × 12 columns</p>\n",
              "</div>"
            ],
            "text/plain": [
              "       user_id  movie_id  rating  ...  releasedate  year   genre\n",
              "0          196       242       3  ...    24-Jan-97  1997  Comedy\n",
              "1          305       242       5  ...    24-Jan-97  1997  Comedy\n",
              "2            6       242       4  ...    24-Jan-97  1997  Comedy\n",
              "3          234       242       4  ...    24-Jan-97  1997  Comedy\n",
              "4           63       242       3  ...    24-Jan-97  1997  Comedy\n",
              "...        ...       ...     ...  ...          ...   ...     ...\n",
              "99982      863      1679       3  ...     6-Feb-98  1998  Action\n",
              "99983      863      1678       1  ...     6-Feb-98  1998  Action\n",
              "99984      863      1680       2  ...     1-Jan-98  1998  Parody\n",
              "99985      896      1681       3  ...     1-Jan-94  1994  Comedy\n",
              "99986      916      1682       3  ...     8-Mar-96  1996  Action\n",
              "\n",
              "[99987 rows x 12 columns]"
            ]
          },
          "metadata": {},
          "execution_count": 33
        }
      ]
    },
    {
      "cell_type": "code",
      "metadata": {
        "colab": {
          "base_uri": "https://localhost:8080/"
        },
        "id": "YPQorXc6C_CT",
        "outputId": "a9d0a044-5200-4641-a706-d1924e1a5454"
      },
      "source": [
        "df1.isnull().sum()"
      ],
      "execution_count": 34,
      "outputs": [
        {
          "output_type": "execute_result",
          "data": {
            "text/plain": [
              "user_id        0\n",
              "movie_id       0\n",
              "rating         0\n",
              "timestamp      0\n",
              "age            0\n",
              "gender         0\n",
              "occupation     0\n",
              "zipcode        0\n",
              "movietitle     0\n",
              "releasedate    0\n",
              "year           0\n",
              "genre          0\n",
              "dtype: int64"
            ]
          },
          "metadata": {},
          "execution_count": 34
        }
      ]
    },
    {
      "cell_type": "markdown",
      "metadata": {
        "id": "wyuzYFrxKCC_"
      },
      "source": [
        "The merged dataset df1 does not contain any null values"
      ]
    },
    {
      "cell_type": "code",
      "metadata": {
        "id": "uZx-lRmn_zjY"
      },
      "source": [
        "d=df1.copy()\n",
        "dd=df1.copy()"
      ],
      "execution_count": 35,
      "outputs": []
    },
    {
      "cell_type": "markdown",
      "metadata": {
        "id": "ByNQhWf6Kh8c"
      },
      "source": [
        "2 copies of the final merged dataset have been made , so that they can be used for afterwards when necessary."
      ]
    },
    {
      "cell_type": "markdown",
      "metadata": {
        "id": "pIHfgLpdTPMa"
      },
      "source": [
        "# Timestamp"
      ]
    },
    {
      "cell_type": "code",
      "metadata": {
        "id": "8iH8u70rHuWI"
      },
      "source": [
        "from datetime import datetime, timezone"
      ],
      "execution_count": 36,
      "outputs": []
    },
    {
      "cell_type": "code",
      "metadata": {
        "colab": {
          "base_uri": "https://localhost:8080/",
          "height": 417
        },
        "id": "GzqP3_Q-JDU8",
        "outputId": "050648a0-758e-422c-c2bd-b10ec8622dc8"
      },
      "source": [
        "d['date(UTC)'] = d.apply(lambda row: datetime.fromtimestamp(row.timestamp).isoformat(), axis=1)\n",
        "d"
      ],
      "execution_count": 37,
      "outputs": [
        {
          "output_type": "execute_result",
          "data": {
            "text/html": [
              "<div>\n",
              "<style scoped>\n",
              "    .dataframe tbody tr th:only-of-type {\n",
              "        vertical-align: middle;\n",
              "    }\n",
              "\n",
              "    .dataframe tbody tr th {\n",
              "        vertical-align: top;\n",
              "    }\n",
              "\n",
              "    .dataframe thead th {\n",
              "        text-align: right;\n",
              "    }\n",
              "</style>\n",
              "<table border=\"1\" class=\"dataframe\">\n",
              "  <thead>\n",
              "    <tr style=\"text-align: right;\">\n",
              "      <th></th>\n",
              "      <th>user_id</th>\n",
              "      <th>movie_id</th>\n",
              "      <th>rating</th>\n",
              "      <th>timestamp</th>\n",
              "      <th>age</th>\n",
              "      <th>gender</th>\n",
              "      <th>occupation</th>\n",
              "      <th>zipcode</th>\n",
              "      <th>movietitle</th>\n",
              "      <th>releasedate</th>\n",
              "      <th>year</th>\n",
              "      <th>genre</th>\n",
              "      <th>date(UTC)</th>\n",
              "    </tr>\n",
              "  </thead>\n",
              "  <tbody>\n",
              "    <tr>\n",
              "      <th>0</th>\n",
              "      <td>196</td>\n",
              "      <td>242</td>\n",
              "      <td>3</td>\n",
              "      <td>881250949</td>\n",
              "      <td>49</td>\n",
              "      <td>M</td>\n",
              "      <td>writer</td>\n",
              "      <td>55105</td>\n",
              "      <td>Kolya (1996)</td>\n",
              "      <td>24-Jan-97</td>\n",
              "      <td>1997</td>\n",
              "      <td>Comedy</td>\n",
              "      <td>1997-12-04T15:55:49</td>\n",
              "    </tr>\n",
              "    <tr>\n",
              "      <th>1</th>\n",
              "      <td>305</td>\n",
              "      <td>242</td>\n",
              "      <td>5</td>\n",
              "      <td>886307828</td>\n",
              "      <td>23</td>\n",
              "      <td>M</td>\n",
              "      <td>programmer</td>\n",
              "      <td>94086</td>\n",
              "      <td>Kolya (1996)</td>\n",
              "      <td>24-Jan-97</td>\n",
              "      <td>1997</td>\n",
              "      <td>Comedy</td>\n",
              "      <td>1998-02-01T04:37:08</td>\n",
              "    </tr>\n",
              "    <tr>\n",
              "      <th>2</th>\n",
              "      <td>6</td>\n",
              "      <td>242</td>\n",
              "      <td>4</td>\n",
              "      <td>883268170</td>\n",
              "      <td>42</td>\n",
              "      <td>M</td>\n",
              "      <td>executive</td>\n",
              "      <td>98101</td>\n",
              "      <td>Kolya (1996)</td>\n",
              "      <td>24-Jan-97</td>\n",
              "      <td>1997</td>\n",
              "      <td>Comedy</td>\n",
              "      <td>1997-12-28T00:16:10</td>\n",
              "    </tr>\n",
              "    <tr>\n",
              "      <th>3</th>\n",
              "      <td>234</td>\n",
              "      <td>242</td>\n",
              "      <td>4</td>\n",
              "      <td>891033261</td>\n",
              "      <td>60</td>\n",
              "      <td>M</td>\n",
              "      <td>retired</td>\n",
              "      <td>94702</td>\n",
              "      <td>Kolya (1996)</td>\n",
              "      <td>24-Jan-97</td>\n",
              "      <td>1997</td>\n",
              "      <td>Comedy</td>\n",
              "      <td>1998-03-27T21:14:21</td>\n",
              "    </tr>\n",
              "    <tr>\n",
              "      <th>4</th>\n",
              "      <td>63</td>\n",
              "      <td>242</td>\n",
              "      <td>3</td>\n",
              "      <td>875747190</td>\n",
              "      <td>31</td>\n",
              "      <td>M</td>\n",
              "      <td>marketing</td>\n",
              "      <td>75240</td>\n",
              "      <td>Kolya (1996)</td>\n",
              "      <td>24-Jan-97</td>\n",
              "      <td>1997</td>\n",
              "      <td>Comedy</td>\n",
              "      <td>1997-10-01T23:06:30</td>\n",
              "    </tr>\n",
              "    <tr>\n",
              "      <th>...</th>\n",
              "      <td>...</td>\n",
              "      <td>...</td>\n",
              "      <td>...</td>\n",
              "      <td>...</td>\n",
              "      <td>...</td>\n",
              "      <td>...</td>\n",
              "      <td>...</td>\n",
              "      <td>...</td>\n",
              "      <td>...</td>\n",
              "      <td>...</td>\n",
              "      <td>...</td>\n",
              "      <td>...</td>\n",
              "      <td>...</td>\n",
              "    </tr>\n",
              "    <tr>\n",
              "      <th>99982</th>\n",
              "      <td>863</td>\n",
              "      <td>1679</td>\n",
              "      <td>3</td>\n",
              "      <td>889289491</td>\n",
              "      <td>17</td>\n",
              "      <td>M</td>\n",
              "      <td>student</td>\n",
              "      <td>60089</td>\n",
              "      <td>B. Monkey (1998)</td>\n",
              "      <td>6-Feb-98</td>\n",
              "      <td>1998</td>\n",
              "      <td>Action</td>\n",
              "      <td>1998-03-07T16:51:31</td>\n",
              "    </tr>\n",
              "    <tr>\n",
              "      <th>99983</th>\n",
              "      <td>863</td>\n",
              "      <td>1678</td>\n",
              "      <td>1</td>\n",
              "      <td>889289570</td>\n",
              "      <td>17</td>\n",
              "      <td>M</td>\n",
              "      <td>student</td>\n",
              "      <td>60089</td>\n",
              "      <td>Mat' i syn (1997)</td>\n",
              "      <td>6-Feb-98</td>\n",
              "      <td>1998</td>\n",
              "      <td>Action</td>\n",
              "      <td>1998-03-07T16:52:50</td>\n",
              "    </tr>\n",
              "    <tr>\n",
              "      <th>99984</th>\n",
              "      <td>863</td>\n",
              "      <td>1680</td>\n",
              "      <td>2</td>\n",
              "      <td>889289570</td>\n",
              "      <td>17</td>\n",
              "      <td>M</td>\n",
              "      <td>student</td>\n",
              "      <td>60089</td>\n",
              "      <td>Sliding Doors (1998)</td>\n",
              "      <td>1-Jan-98</td>\n",
              "      <td>1998</td>\n",
              "      <td>Parody</td>\n",
              "      <td>1998-03-07T16:52:50</td>\n",
              "    </tr>\n",
              "    <tr>\n",
              "      <th>99985</th>\n",
              "      <td>896</td>\n",
              "      <td>1681</td>\n",
              "      <td>3</td>\n",
              "      <td>887160722</td>\n",
              "      <td>28</td>\n",
              "      <td>M</td>\n",
              "      <td>writer</td>\n",
              "      <td>91505</td>\n",
              "      <td>You So Crazy (1994)</td>\n",
              "      <td>1-Jan-94</td>\n",
              "      <td>1994</td>\n",
              "      <td>Comedy</td>\n",
              "      <td>1998-02-11T01:32:02</td>\n",
              "    </tr>\n",
              "    <tr>\n",
              "      <th>99986</th>\n",
              "      <td>916</td>\n",
              "      <td>1682</td>\n",
              "      <td>3</td>\n",
              "      <td>880845755</td>\n",
              "      <td>27</td>\n",
              "      <td>M</td>\n",
              "      <td>engineer</td>\n",
              "      <td>N2L5N</td>\n",
              "      <td>Scream of Stone (Schrei aus Stein) (1991)</td>\n",
              "      <td>8-Mar-96</td>\n",
              "      <td>1996</td>\n",
              "      <td>Action</td>\n",
              "      <td>1997-11-29T23:22:35</td>\n",
              "    </tr>\n",
              "  </tbody>\n",
              "</table>\n",
              "<p>99987 rows × 13 columns</p>\n",
              "</div>"
            ],
            "text/plain": [
              "       user_id  movie_id  rating  ...  year   genre            date(UTC)\n",
              "0          196       242       3  ...  1997  Comedy  1997-12-04T15:55:49\n",
              "1          305       242       5  ...  1997  Comedy  1998-02-01T04:37:08\n",
              "2            6       242       4  ...  1997  Comedy  1997-12-28T00:16:10\n",
              "3          234       242       4  ...  1997  Comedy  1998-03-27T21:14:21\n",
              "4           63       242       3  ...  1997  Comedy  1997-10-01T23:06:30\n",
              "...        ...       ...     ...  ...   ...     ...                  ...\n",
              "99982      863      1679       3  ...  1998  Action  1998-03-07T16:51:31\n",
              "99983      863      1678       1  ...  1998  Action  1998-03-07T16:52:50\n",
              "99984      863      1680       2  ...  1998  Parody  1998-03-07T16:52:50\n",
              "99985      896      1681       3  ...  1994  Comedy  1998-02-11T01:32:02\n",
              "99986      916      1682       3  ...  1996  Action  1997-11-29T23:22:35\n",
              "\n",
              "[99987 rows x 13 columns]"
            ]
          },
          "metadata": {},
          "execution_count": 37
        }
      ]
    },
    {
      "cell_type": "code",
      "metadata": {
        "id": "xM6muwYPcg4t"
      },
      "source": [
        "import matplotlib.pyplot as plt"
      ],
      "execution_count": 38,
      "outputs": []
    },
    {
      "cell_type": "code",
      "metadata": {
        "id": "CCto_oH5DJjA"
      },
      "source": [
        "from sklearn.ensemble import IsolationForest"
      ],
      "execution_count": 39,
      "outputs": []
    },
    {
      "cell_type": "code",
      "metadata": {
        "id": "2En24rBuDUWQ"
      },
      "source": [
        "iso = IsolationForest(contamination=0.2)"
      ],
      "execution_count": 40,
      "outputs": []
    },
    {
      "cell_type": "code",
      "metadata": {
        "id": "fPkfzeh6FkcG"
      },
      "source": [
        "from sklearn.preprocessing import LabelEncoder"
      ],
      "execution_count": 41,
      "outputs": []
    },
    {
      "cell_type": "code",
      "metadata": {
        "id": "DZw8T2l9GDdz"
      },
      "source": [
        "l_enc=LabelEncoder()"
      ],
      "execution_count": 42,
      "outputs": []
    },
    {
      "cell_type": "code",
      "metadata": {
        "id": "o7f-V8XrG7eR"
      },
      "source": [
        "d['gender']=l_enc.fit_transform(d['gender'])\n",
        "d['occupation']=l_enc.fit_transform(d['occupation'])\n",
        "d['genre']=l_enc.fit_transform(d['genre'])\n",
        "d['date(UTC)']=l_enc.fit_transform(d['date(UTC)'])\n"
      ],
      "execution_count": 43,
      "outputs": []
    },
    {
      "cell_type": "code",
      "metadata": {
        "id": "1FJ0PSv-EOZw"
      },
      "source": [
        "d['zipcode']=l_enc.fit_transform(d['zipcode'])\n",
        "d['movietitle']=l_enc.fit_transform(d['movietitle'])\n",
        "d['releasedate']=l_enc.fit_transform(d['releasedate'])"
      ],
      "execution_count": 44,
      "outputs": []
    },
    {
      "cell_type": "code",
      "metadata": {
        "colab": {
          "base_uri": "https://localhost:8080/",
          "height": 417
        },
        "id": "H3OwzwjPEP4s",
        "outputId": "a178014d-0a54-4381-e0cd-a00768e63e9e"
      },
      "source": [
        "d"
      ],
      "execution_count": 45,
      "outputs": [
        {
          "output_type": "execute_result",
          "data": {
            "text/html": [
              "<div>\n",
              "<style scoped>\n",
              "    .dataframe tbody tr th:only-of-type {\n",
              "        vertical-align: middle;\n",
              "    }\n",
              "\n",
              "    .dataframe tbody tr th {\n",
              "        vertical-align: top;\n",
              "    }\n",
              "\n",
              "    .dataframe thead th {\n",
              "        text-align: right;\n",
              "    }\n",
              "</style>\n",
              "<table border=\"1\" class=\"dataframe\">\n",
              "  <thead>\n",
              "    <tr style=\"text-align: right;\">\n",
              "      <th></th>\n",
              "      <th>user_id</th>\n",
              "      <th>movie_id</th>\n",
              "      <th>rating</th>\n",
              "      <th>timestamp</th>\n",
              "      <th>age</th>\n",
              "      <th>gender</th>\n",
              "      <th>occupation</th>\n",
              "      <th>zipcode</th>\n",
              "      <th>movietitle</th>\n",
              "      <th>releasedate</th>\n",
              "      <th>year</th>\n",
              "      <th>genre</th>\n",
              "      <th>date(UTC)</th>\n",
              "    </tr>\n",
              "  </thead>\n",
              "  <tbody>\n",
              "    <tr>\n",
              "      <th>0</th>\n",
              "      <td>196</td>\n",
              "      <td>242</td>\n",
              "      <td>3</td>\n",
              "      <td>881250949</td>\n",
              "      <td>49</td>\n",
              "      <td>1</td>\n",
              "      <td>20</td>\n",
              "      <td>378</td>\n",
              "      <td>824</td>\n",
              "      <td>158</td>\n",
              "      <td>1997</td>\n",
              "      <td>3</td>\n",
              "      <td>21294</td>\n",
              "    </tr>\n",
              "    <tr>\n",
              "      <th>1</th>\n",
              "      <td>305</td>\n",
              "      <td>242</td>\n",
              "      <td>5</td>\n",
              "      <td>886307828</td>\n",
              "      <td>23</td>\n",
              "      <td>1</td>\n",
              "      <td>14</td>\n",
              "      <td>689</td>\n",
              "      <td>824</td>\n",
              "      <td>158</td>\n",
              "      <td>1997</td>\n",
              "      <td>3</td>\n",
              "      <td>33210</td>\n",
              "    </tr>\n",
              "    <tr>\n",
              "      <th>2</th>\n",
              "      <td>6</td>\n",
              "      <td>242</td>\n",
              "      <td>4</td>\n",
              "      <td>883268170</td>\n",
              "      <td>42</td>\n",
              "      <td>1</td>\n",
              "      <td>6</td>\n",
              "      <td>758</td>\n",
              "      <td>824</td>\n",
              "      <td>158</td>\n",
              "      <td>1997</td>\n",
              "      <td>3</td>\n",
              "      <td>25500</td>\n",
              "    </tr>\n",
              "    <tr>\n",
              "      <th>3</th>\n",
              "      <td>234</td>\n",
              "      <td>242</td>\n",
              "      <td>4</td>\n",
              "      <td>891033261</td>\n",
              "      <td>60</td>\n",
              "      <td>1</td>\n",
              "      <td>15</td>\n",
              "      <td>706</td>\n",
              "      <td>824</td>\n",
              "      <td>158</td>\n",
              "      <td>1997</td>\n",
              "      <td>3</td>\n",
              "      <td>41779</td>\n",
              "    </tr>\n",
              "    <tr>\n",
              "      <th>4</th>\n",
              "      <td>63</td>\n",
              "      <td>242</td>\n",
              "      <td>3</td>\n",
              "      <td>875747190</td>\n",
              "      <td>31</td>\n",
              "      <td>1</td>\n",
              "      <td>11</td>\n",
              "      <td>529</td>\n",
              "      <td>824</td>\n",
              "      <td>158</td>\n",
              "      <td>1997</td>\n",
              "      <td>3</td>\n",
              "      <td>3941</td>\n",
              "    </tr>\n",
              "    <tr>\n",
              "      <th>...</th>\n",
              "      <td>...</td>\n",
              "      <td>...</td>\n",
              "      <td>...</td>\n",
              "      <td>...</td>\n",
              "      <td>...</td>\n",
              "      <td>...</td>\n",
              "      <td>...</td>\n",
              "      <td>...</td>\n",
              "      <td>...</td>\n",
              "      <td>...</td>\n",
              "      <td>...</td>\n",
              "      <td>...</td>\n",
              "      <td>...</td>\n",
              "    </tr>\n",
              "    <tr>\n",
              "      <th>99982</th>\n",
              "      <td>863</td>\n",
              "      <td>1679</td>\n",
              "      <td>3</td>\n",
              "      <td>889289491</td>\n",
              "      <td>17</td>\n",
              "      <td>1</td>\n",
              "      <td>18</td>\n",
              "      <td>425</td>\n",
              "      <td>108</td>\n",
              "      <td>218</td>\n",
              "      <td>1998</td>\n",
              "      <td>0</td>\n",
              "      <td>39602</td>\n",
              "    </tr>\n",
              "    <tr>\n",
              "      <th>99983</th>\n",
              "      <td>863</td>\n",
              "      <td>1678</td>\n",
              "      <td>1</td>\n",
              "      <td>889289570</td>\n",
              "      <td>17</td>\n",
              "      <td>1</td>\n",
              "      <td>18</td>\n",
              "      <td>425</td>\n",
              "      <td>950</td>\n",
              "      <td>218</td>\n",
              "      <td>1998</td>\n",
              "      <td>0</td>\n",
              "      <td>39604</td>\n",
              "    </tr>\n",
              "    <tr>\n",
              "      <th>99984</th>\n",
              "      <td>863</td>\n",
              "      <td>1680</td>\n",
              "      <td>2</td>\n",
              "      <td>889289570</td>\n",
              "      <td>17</td>\n",
              "      <td>1</td>\n",
              "      <td>18</td>\n",
              "      <td>425</td>\n",
              "      <td>1340</td>\n",
              "      <td>72</td>\n",
              "      <td>1998</td>\n",
              "      <td>20</td>\n",
              "      <td>39604</td>\n",
              "    </tr>\n",
              "    <tr>\n",
              "      <th>99985</th>\n",
              "      <td>896</td>\n",
              "      <td>1681</td>\n",
              "      <td>3</td>\n",
              "      <td>887160722</td>\n",
              "      <td>28</td>\n",
              "      <td>1</td>\n",
              "      <td>20</td>\n",
              "      <td>652</td>\n",
              "      <td>1655</td>\n",
              "      <td>68</td>\n",
              "      <td>1994</td>\n",
              "      <td>3</td>\n",
              "      <td>35074</td>\n",
              "    </tr>\n",
              "    <tr>\n",
              "      <th>99986</th>\n",
              "      <td>916</td>\n",
              "      <td>1682</td>\n",
              "      <td>3</td>\n",
              "      <td>880845755</td>\n",
              "      <td>27</td>\n",
              "      <td>1</td>\n",
              "      <td>4</td>\n",
              "      <td>785</td>\n",
              "      <td>1285</td>\n",
              "      <td>229</td>\n",
              "      <td>1996</td>\n",
              "      <td>0</td>\n",
              "      <td>19980</td>\n",
              "    </tr>\n",
              "  </tbody>\n",
              "</table>\n",
              "<p>99987 rows × 13 columns</p>\n",
              "</div>"
            ],
            "text/plain": [
              "       user_id  movie_id  rating  ...  year  genre  date(UTC)\n",
              "0          196       242       3  ...  1997      3      21294\n",
              "1          305       242       5  ...  1997      3      33210\n",
              "2            6       242       4  ...  1997      3      25500\n",
              "3          234       242       4  ...  1997      3      41779\n",
              "4           63       242       3  ...  1997      3       3941\n",
              "...        ...       ...     ...  ...   ...    ...        ...\n",
              "99982      863      1679       3  ...  1998      0      39602\n",
              "99983      863      1678       1  ...  1998      0      39604\n",
              "99984      863      1680       2  ...  1998     20      39604\n",
              "99985      896      1681       3  ...  1994      3      35074\n",
              "99986      916      1682       3  ...  1996      0      19980\n",
              "\n",
              "[99987 rows x 13 columns]"
            ]
          },
          "metadata": {},
          "execution_count": 45
        }
      ]
    },
    {
      "cell_type": "code",
      "metadata": {
        "id": "724xjbAHHz3m"
      },
      "source": [
        "from sklearn.preprocessing import MinMaxScaler\n",
        "scaler=MinMaxScaler()"
      ],
      "execution_count": 46,
      "outputs": []
    },
    {
      "cell_type": "code",
      "metadata": {
        "colab": {
          "base_uri": "https://localhost:8080/"
        },
        "id": "FG424aCUIqbk",
        "outputId": "59f757be-0a13-45af-8122-0417c7abef32"
      },
      "source": [
        "scaler.fit(d)"
      ],
      "execution_count": 47,
      "outputs": [
        {
          "output_type": "execute_result",
          "data": {
            "text/plain": [
              "MinMaxScaler()"
            ]
          },
          "metadata": {},
          "execution_count": 47
        }
      ]
    },
    {
      "cell_type": "code",
      "metadata": {
        "id": "ahIyKjdiIvo0"
      },
      "source": [
        "DM=scaler.transform(d)"
      ],
      "execution_count": 48,
      "outputs": []
    },
    {
      "cell_type": "code",
      "metadata": {
        "colab": {
          "base_uri": "https://localhost:8080/"
        },
        "id": "c51v8UxzI08u",
        "outputId": "a8851760-58a2-47ed-bc81-910def30db06"
      },
      "source": [
        "DM"
      ],
      "execution_count": 49,
      "outputs": [
        {
          "output_type": "execute_result",
          "data": {
            "text/plain": [
              "array([[0.20700637, 0.14336704, 0.5       , ..., 0.98684211, 0.09090909,\n",
              "        0.43215489],\n",
              "       [0.32271762, 0.14336704, 1.        , ..., 0.98684211, 0.09090909,\n",
              "        0.67398628],\n",
              "       [0.00530786, 0.14336704, 0.75      , ..., 0.98684211, 0.09090909,\n",
              "        0.51751431],\n",
              "       ...,\n",
              "       [0.91507431, 0.99881023, 0.25      , ..., 1.        , 0.60606061,\n",
              "        0.80375046],\n",
              "       [0.95010616, 0.99940512, 0.5       , ..., 0.94736842, 0.09090909,\n",
              "        0.71181556],\n",
              "       [0.97133758, 1.        , 0.5       , ..., 0.97368421, 0.        ,\n",
              "        0.40548768]])"
            ]
          },
          "metadata": {},
          "execution_count": 49
        }
      ]
    },
    {
      "cell_type": "code",
      "metadata": {
        "id": "W0pd8VhJI3_g"
      },
      "source": [
        "DF=pd.DataFrame(data=DM,columns=['user_id',\t'movie_id',\t'rating' ,\t'timestamp' ,\t'age' ,\t'gender' ,\t'occupation' ,\t'zipcode' ,\t'movietitle' ,\t'releasedate' , \t'year' ,\t'genre' ,\t'date(UTC)'])"
      ],
      "execution_count": 50,
      "outputs": []
    },
    {
      "cell_type": "code",
      "metadata": {
        "id": "x5tAGOzAJcyi",
        "colab": {
          "base_uri": "https://localhost:8080/",
          "height": 417
        },
        "outputId": "65482366-dbe5-49d9-b65c-a811d0d1d4f0"
      },
      "source": [
        "DF"
      ],
      "execution_count": 51,
      "outputs": [
        {
          "output_type": "execute_result",
          "data": {
            "text/html": [
              "<div>\n",
              "<style scoped>\n",
              "    .dataframe tbody tr th:only-of-type {\n",
              "        vertical-align: middle;\n",
              "    }\n",
              "\n",
              "    .dataframe tbody tr th {\n",
              "        vertical-align: top;\n",
              "    }\n",
              "\n",
              "    .dataframe thead th {\n",
              "        text-align: right;\n",
              "    }\n",
              "</style>\n",
              "<table border=\"1\" class=\"dataframe\">\n",
              "  <thead>\n",
              "    <tr style=\"text-align: right;\">\n",
              "      <th></th>\n",
              "      <th>user_id</th>\n",
              "      <th>movie_id</th>\n",
              "      <th>rating</th>\n",
              "      <th>timestamp</th>\n",
              "      <th>age</th>\n",
              "      <th>gender</th>\n",
              "      <th>occupation</th>\n",
              "      <th>zipcode</th>\n",
              "      <th>movietitle</th>\n",
              "      <th>releasedate</th>\n",
              "      <th>year</th>\n",
              "      <th>genre</th>\n",
              "      <th>date(UTC)</th>\n",
              "    </tr>\n",
              "  </thead>\n",
              "  <tbody>\n",
              "    <tr>\n",
              "      <th>0</th>\n",
              "      <td>0.207006</td>\n",
              "      <td>0.143367</td>\n",
              "      <td>0.50</td>\n",
              "      <td>0.351593</td>\n",
              "      <td>0.636364</td>\n",
              "      <td>1.0</td>\n",
              "      <td>1.00</td>\n",
              "      <td>0.476071</td>\n",
              "      <td>0.496386</td>\n",
              "      <td>0.666667</td>\n",
              "      <td>0.986842</td>\n",
              "      <td>0.090909</td>\n",
              "      <td>0.432155</td>\n",
              "    </tr>\n",
              "    <tr>\n",
              "      <th>1</th>\n",
              "      <td>0.322718</td>\n",
              "      <td>0.143367</td>\n",
              "      <td>1.00</td>\n",
              "      <td>0.624026</td>\n",
              "      <td>0.242424</td>\n",
              "      <td>1.0</td>\n",
              "      <td>0.70</td>\n",
              "      <td>0.867758</td>\n",
              "      <td>0.496386</td>\n",
              "      <td>0.666667</td>\n",
              "      <td>0.986842</td>\n",
              "      <td>0.090909</td>\n",
              "      <td>0.673986</td>\n",
              "    </tr>\n",
              "    <tr>\n",
              "      <th>2</th>\n",
              "      <td>0.005308</td>\n",
              "      <td>0.143367</td>\n",
              "      <td>0.75</td>\n",
              "      <td>0.460268</td>\n",
              "      <td>0.530303</td>\n",
              "      <td>1.0</td>\n",
              "      <td>0.30</td>\n",
              "      <td>0.954660</td>\n",
              "      <td>0.496386</td>\n",
              "      <td>0.666667</td>\n",
              "      <td>0.986842</td>\n",
              "      <td>0.090909</td>\n",
              "      <td>0.517514</td>\n",
              "    </tr>\n",
              "    <tr>\n",
              "      <th>3</th>\n",
              "      <td>0.247346</td>\n",
              "      <td>0.143367</td>\n",
              "      <td>0.75</td>\n",
              "      <td>0.878602</td>\n",
              "      <td>0.803030</td>\n",
              "      <td>1.0</td>\n",
              "      <td>0.75</td>\n",
              "      <td>0.889169</td>\n",
              "      <td>0.496386</td>\n",
              "      <td>0.666667</td>\n",
              "      <td>0.986842</td>\n",
              "      <td>0.090909</td>\n",
              "      <td>0.847891</td>\n",
              "    </tr>\n",
              "    <tr>\n",
              "      <th>4</th>\n",
              "      <td>0.065817</td>\n",
              "      <td>0.143367</td>\n",
              "      <td>0.50</td>\n",
              "      <td>0.055085</td>\n",
              "      <td>0.363636</td>\n",
              "      <td>1.0</td>\n",
              "      <td>0.55</td>\n",
              "      <td>0.666247</td>\n",
              "      <td>0.496386</td>\n",
              "      <td>0.666667</td>\n",
              "      <td>0.986842</td>\n",
              "      <td>0.090909</td>\n",
              "      <td>0.079981</td>\n",
              "    </tr>\n",
              "    <tr>\n",
              "      <th>...</th>\n",
              "      <td>...</td>\n",
              "      <td>...</td>\n",
              "      <td>...</td>\n",
              "      <td>...</td>\n",
              "      <td>...</td>\n",
              "      <td>...</td>\n",
              "      <td>...</td>\n",
              "      <td>...</td>\n",
              "      <td>...</td>\n",
              "      <td>...</td>\n",
              "      <td>...</td>\n",
              "      <td>...</td>\n",
              "      <td>...</td>\n",
              "    </tr>\n",
              "    <tr>\n",
              "      <th>99982</th>\n",
              "      <td>0.915074</td>\n",
              "      <td>0.998215</td>\n",
              "      <td>0.50</td>\n",
              "      <td>0.784659</td>\n",
              "      <td>0.151515</td>\n",
              "      <td>1.0</td>\n",
              "      <td>0.90</td>\n",
              "      <td>0.535264</td>\n",
              "      <td>0.065060</td>\n",
              "      <td>0.919831</td>\n",
              "      <td>1.000000</td>\n",
              "      <td>0.000000</td>\n",
              "      <td>0.803710</td>\n",
              "    </tr>\n",
              "    <tr>\n",
              "      <th>99983</th>\n",
              "      <td>0.915074</td>\n",
              "      <td>0.997620</td>\n",
              "      <td>0.00</td>\n",
              "      <td>0.784663</td>\n",
              "      <td>0.151515</td>\n",
              "      <td>1.0</td>\n",
              "      <td>0.90</td>\n",
              "      <td>0.535264</td>\n",
              "      <td>0.572289</td>\n",
              "      <td>0.919831</td>\n",
              "      <td>1.000000</td>\n",
              "      <td>0.000000</td>\n",
              "      <td>0.803750</td>\n",
              "    </tr>\n",
              "    <tr>\n",
              "      <th>99984</th>\n",
              "      <td>0.915074</td>\n",
              "      <td>0.998810</td>\n",
              "      <td>0.25</td>\n",
              "      <td>0.784663</td>\n",
              "      <td>0.151515</td>\n",
              "      <td>1.0</td>\n",
              "      <td>0.90</td>\n",
              "      <td>0.535264</td>\n",
              "      <td>0.807229</td>\n",
              "      <td>0.303797</td>\n",
              "      <td>1.000000</td>\n",
              "      <td>0.606061</td>\n",
              "      <td>0.803750</td>\n",
              "    </tr>\n",
              "    <tr>\n",
              "      <th>99985</th>\n",
              "      <td>0.950106</td>\n",
              "      <td>0.999405</td>\n",
              "      <td>0.50</td>\n",
              "      <td>0.669974</td>\n",
              "      <td>0.318182</td>\n",
              "      <td>1.0</td>\n",
              "      <td>1.00</td>\n",
              "      <td>0.821159</td>\n",
              "      <td>0.996988</td>\n",
              "      <td>0.286920</td>\n",
              "      <td>0.947368</td>\n",
              "      <td>0.090909</td>\n",
              "      <td>0.711816</td>\n",
              "    </tr>\n",
              "    <tr>\n",
              "      <th>99986</th>\n",
              "      <td>0.971338</td>\n",
              "      <td>1.000000</td>\n",
              "      <td>0.50</td>\n",
              "      <td>0.329763</td>\n",
              "      <td>0.303030</td>\n",
              "      <td>1.0</td>\n",
              "      <td>0.20</td>\n",
              "      <td>0.988665</td>\n",
              "      <td>0.774096</td>\n",
              "      <td>0.966245</td>\n",
              "      <td>0.973684</td>\n",
              "      <td>0.000000</td>\n",
              "      <td>0.405488</td>\n",
              "    </tr>\n",
              "  </tbody>\n",
              "</table>\n",
              "<p>99987 rows × 13 columns</p>\n",
              "</div>"
            ],
            "text/plain": [
              "        user_id  movie_id  rating  ...      year     genre  date(UTC)\n",
              "0      0.207006  0.143367    0.50  ...  0.986842  0.090909   0.432155\n",
              "1      0.322718  0.143367    1.00  ...  0.986842  0.090909   0.673986\n",
              "2      0.005308  0.143367    0.75  ...  0.986842  0.090909   0.517514\n",
              "3      0.247346  0.143367    0.75  ...  0.986842  0.090909   0.847891\n",
              "4      0.065817  0.143367    0.50  ...  0.986842  0.090909   0.079981\n",
              "...         ...       ...     ...  ...       ...       ...        ...\n",
              "99982  0.915074  0.998215    0.50  ...  1.000000  0.000000   0.803710\n",
              "99983  0.915074  0.997620    0.00  ...  1.000000  0.000000   0.803750\n",
              "99984  0.915074  0.998810    0.25  ...  1.000000  0.606061   0.803750\n",
              "99985  0.950106  0.999405    0.50  ...  0.947368  0.090909   0.711816\n",
              "99986  0.971338  1.000000    0.50  ...  0.973684  0.000000   0.405488\n",
              "\n",
              "[99987 rows x 13 columns]"
            ]
          },
          "metadata": {},
          "execution_count": 51
        }
      ]
    },
    {
      "cell_type": "code",
      "metadata": {
        "colab": {
          "base_uri": "https://localhost:8080/"
        },
        "id": "MWEdh0I6E9dT",
        "outputId": "bbddf338-a894-4215-c81f-7ad2b9534cbd"
      },
      "source": [
        "yhat = iso.fit_predict(DF)"
      ],
      "execution_count": 52,
      "outputs": [
        {
          "output_type": "stream",
          "name": "stderr",
          "text": [
            "/usr/local/lib/python3.7/dist-packages/sklearn/base.py:446: UserWarning: X does not have valid feature names, but IsolationForest was fitted with feature names\n",
            "  \"X does not have valid feature names, but\"\n"
          ]
        }
      ]
    },
    {
      "cell_type": "code",
      "metadata": {
        "id": "4Y6ImoEVFHCM"
      },
      "source": [
        "mask = yhat != -1"
      ],
      "execution_count": 53,
      "outputs": []
    },
    {
      "cell_type": "code",
      "metadata": {
        "colab": {
          "base_uri": "https://localhost:8080/"
        },
        "id": "NWbmgSaHFJD9",
        "outputId": "64dafba4-9ea2-4e4f-d4d0-446e054362ef"
      },
      "source": [
        "print(mask)"
      ],
      "execution_count": 54,
      "outputs": [
        {
          "output_type": "stream",
          "name": "stdout",
          "text": [
            "[ True  True  True ... False  True False]\n"
          ]
        }
      ]
    },
    {
      "cell_type": "code",
      "metadata": {
        "id": "9OHixJlgTa1Y"
      },
      "source": [
        "import array as arr"
      ],
      "execution_count": 55,
      "outputs": []
    },
    {
      "cell_type": "code",
      "metadata": {
        "colab": {
          "base_uri": "https://localhost:8080/"
        },
        "id": "ueluQjCUKCk1",
        "outputId": "2e840006-a6fe-472f-f7f5-e96871a82ecd"
      },
      "source": [
        "s=0\n",
        "sm=0\n",
        "for i in range(0, len(yhat)):\n",
        "    if yhat[i]!=-1:\n",
        "      s=s+1   \n",
        "    elif yhat[i]==-1:\n",
        "      sm=sm+1\n",
        "print(\"No of rows that are not outliers =\" ,s)\n",
        "print(\"No of rows that are outliers =\",sm)"
      ],
      "execution_count": 56,
      "outputs": [
        {
          "output_type": "stream",
          "name": "stdout",
          "text": [
            "No of rows that are not outliers = 79989\n",
            "No of rows that are outliers = 19998\n"
          ]
        }
      ]
    },
    {
      "cell_type": "code",
      "metadata": {
        "id": "B1UjISQOTyrX"
      },
      "source": [
        "t=[]"
      ],
      "execution_count": 57,
      "outputs": []
    },
    {
      "cell_type": "code",
      "metadata": {
        "id": "evwkU3EmIr0G"
      },
      "source": [
        "for i in range(0, len(yhat)):\n",
        "    if yhat[i]!=-1:\n",
        "      t.append('trustful') \n",
        "    elif yhat[i]==-1:\n",
        "      t.append('attacker')"
      ],
      "execution_count": 58,
      "outputs": []
    },
    {
      "cell_type": "code",
      "metadata": {
        "colab": {
          "base_uri": "https://localhost:8080/",
          "height": 417
        },
        "id": "xnXNSi6YMJzW",
        "outputId": "c6fd2367-de52-43ed-eee1-d9173e85646b"
      },
      "source": [
        "df = pd.DataFrame(t,columns=['user_type'])\n",
        "df"
      ],
      "execution_count": 59,
      "outputs": [
        {
          "output_type": "execute_result",
          "data": {
            "text/html": [
              "<div>\n",
              "<style scoped>\n",
              "    .dataframe tbody tr th:only-of-type {\n",
              "        vertical-align: middle;\n",
              "    }\n",
              "\n",
              "    .dataframe tbody tr th {\n",
              "        vertical-align: top;\n",
              "    }\n",
              "\n",
              "    .dataframe thead th {\n",
              "        text-align: right;\n",
              "    }\n",
              "</style>\n",
              "<table border=\"1\" class=\"dataframe\">\n",
              "  <thead>\n",
              "    <tr style=\"text-align: right;\">\n",
              "      <th></th>\n",
              "      <th>user_type</th>\n",
              "    </tr>\n",
              "  </thead>\n",
              "  <tbody>\n",
              "    <tr>\n",
              "      <th>0</th>\n",
              "      <td>trustful</td>\n",
              "    </tr>\n",
              "    <tr>\n",
              "      <th>1</th>\n",
              "      <td>trustful</td>\n",
              "    </tr>\n",
              "    <tr>\n",
              "      <th>2</th>\n",
              "      <td>trustful</td>\n",
              "    </tr>\n",
              "    <tr>\n",
              "      <th>3</th>\n",
              "      <td>trustful</td>\n",
              "    </tr>\n",
              "    <tr>\n",
              "      <th>4</th>\n",
              "      <td>trustful</td>\n",
              "    </tr>\n",
              "    <tr>\n",
              "      <th>...</th>\n",
              "      <td>...</td>\n",
              "    </tr>\n",
              "    <tr>\n",
              "      <th>99982</th>\n",
              "      <td>attacker</td>\n",
              "    </tr>\n",
              "    <tr>\n",
              "      <th>99983</th>\n",
              "      <td>attacker</td>\n",
              "    </tr>\n",
              "    <tr>\n",
              "      <th>99984</th>\n",
              "      <td>attacker</td>\n",
              "    </tr>\n",
              "    <tr>\n",
              "      <th>99985</th>\n",
              "      <td>trustful</td>\n",
              "    </tr>\n",
              "    <tr>\n",
              "      <th>99986</th>\n",
              "      <td>attacker</td>\n",
              "    </tr>\n",
              "  </tbody>\n",
              "</table>\n",
              "<p>99987 rows × 1 columns</p>\n",
              "</div>"
            ],
            "text/plain": [
              "      user_type\n",
              "0      trustful\n",
              "1      trustful\n",
              "2      trustful\n",
              "3      trustful\n",
              "4      trustful\n",
              "...         ...\n",
              "99982  attacker\n",
              "99983  attacker\n",
              "99984  attacker\n",
              "99985  trustful\n",
              "99986  attacker\n",
              "\n",
              "[99987 rows x 1 columns]"
            ]
          },
          "metadata": {},
          "execution_count": 59
        }
      ]
    },
    {
      "cell_type": "code",
      "metadata": {
        "id": "vNkaQKePVcH8"
      },
      "source": [
        "D=pd.concat([DF,df],axis=1)"
      ],
      "execution_count": 60,
      "outputs": []
    },
    {
      "cell_type": "code",
      "metadata": {
        "colab": {
          "base_uri": "https://localhost:8080/",
          "height": 417
        },
        "id": "MvV1sAvEXiLL",
        "outputId": "959f3dfc-3352-4783-b534-d7e8524afee8"
      },
      "source": [
        "D"
      ],
      "execution_count": 61,
      "outputs": [
        {
          "output_type": "execute_result",
          "data": {
            "text/html": [
              "<div>\n",
              "<style scoped>\n",
              "    .dataframe tbody tr th:only-of-type {\n",
              "        vertical-align: middle;\n",
              "    }\n",
              "\n",
              "    .dataframe tbody tr th {\n",
              "        vertical-align: top;\n",
              "    }\n",
              "\n",
              "    .dataframe thead th {\n",
              "        text-align: right;\n",
              "    }\n",
              "</style>\n",
              "<table border=\"1\" class=\"dataframe\">\n",
              "  <thead>\n",
              "    <tr style=\"text-align: right;\">\n",
              "      <th></th>\n",
              "      <th>user_id</th>\n",
              "      <th>movie_id</th>\n",
              "      <th>rating</th>\n",
              "      <th>timestamp</th>\n",
              "      <th>age</th>\n",
              "      <th>gender</th>\n",
              "      <th>occupation</th>\n",
              "      <th>zipcode</th>\n",
              "      <th>movietitle</th>\n",
              "      <th>releasedate</th>\n",
              "      <th>year</th>\n",
              "      <th>genre</th>\n",
              "      <th>date(UTC)</th>\n",
              "      <th>user_type</th>\n",
              "    </tr>\n",
              "  </thead>\n",
              "  <tbody>\n",
              "    <tr>\n",
              "      <th>0</th>\n",
              "      <td>0.207006</td>\n",
              "      <td>0.143367</td>\n",
              "      <td>0.50</td>\n",
              "      <td>0.351593</td>\n",
              "      <td>0.636364</td>\n",
              "      <td>1.0</td>\n",
              "      <td>1.00</td>\n",
              "      <td>0.476071</td>\n",
              "      <td>0.496386</td>\n",
              "      <td>0.666667</td>\n",
              "      <td>0.986842</td>\n",
              "      <td>0.090909</td>\n",
              "      <td>0.432155</td>\n",
              "      <td>trustful</td>\n",
              "    </tr>\n",
              "    <tr>\n",
              "      <th>1</th>\n",
              "      <td>0.322718</td>\n",
              "      <td>0.143367</td>\n",
              "      <td>1.00</td>\n",
              "      <td>0.624026</td>\n",
              "      <td>0.242424</td>\n",
              "      <td>1.0</td>\n",
              "      <td>0.70</td>\n",
              "      <td>0.867758</td>\n",
              "      <td>0.496386</td>\n",
              "      <td>0.666667</td>\n",
              "      <td>0.986842</td>\n",
              "      <td>0.090909</td>\n",
              "      <td>0.673986</td>\n",
              "      <td>trustful</td>\n",
              "    </tr>\n",
              "    <tr>\n",
              "      <th>2</th>\n",
              "      <td>0.005308</td>\n",
              "      <td>0.143367</td>\n",
              "      <td>0.75</td>\n",
              "      <td>0.460268</td>\n",
              "      <td>0.530303</td>\n",
              "      <td>1.0</td>\n",
              "      <td>0.30</td>\n",
              "      <td>0.954660</td>\n",
              "      <td>0.496386</td>\n",
              "      <td>0.666667</td>\n",
              "      <td>0.986842</td>\n",
              "      <td>0.090909</td>\n",
              "      <td>0.517514</td>\n",
              "      <td>trustful</td>\n",
              "    </tr>\n",
              "    <tr>\n",
              "      <th>3</th>\n",
              "      <td>0.247346</td>\n",
              "      <td>0.143367</td>\n",
              "      <td>0.75</td>\n",
              "      <td>0.878602</td>\n",
              "      <td>0.803030</td>\n",
              "      <td>1.0</td>\n",
              "      <td>0.75</td>\n",
              "      <td>0.889169</td>\n",
              "      <td>0.496386</td>\n",
              "      <td>0.666667</td>\n",
              "      <td>0.986842</td>\n",
              "      <td>0.090909</td>\n",
              "      <td>0.847891</td>\n",
              "      <td>trustful</td>\n",
              "    </tr>\n",
              "    <tr>\n",
              "      <th>4</th>\n",
              "      <td>0.065817</td>\n",
              "      <td>0.143367</td>\n",
              "      <td>0.50</td>\n",
              "      <td>0.055085</td>\n",
              "      <td>0.363636</td>\n",
              "      <td>1.0</td>\n",
              "      <td>0.55</td>\n",
              "      <td>0.666247</td>\n",
              "      <td>0.496386</td>\n",
              "      <td>0.666667</td>\n",
              "      <td>0.986842</td>\n",
              "      <td>0.090909</td>\n",
              "      <td>0.079981</td>\n",
              "      <td>trustful</td>\n",
              "    </tr>\n",
              "    <tr>\n",
              "      <th>...</th>\n",
              "      <td>...</td>\n",
              "      <td>...</td>\n",
              "      <td>...</td>\n",
              "      <td>...</td>\n",
              "      <td>...</td>\n",
              "      <td>...</td>\n",
              "      <td>...</td>\n",
              "      <td>...</td>\n",
              "      <td>...</td>\n",
              "      <td>...</td>\n",
              "      <td>...</td>\n",
              "      <td>...</td>\n",
              "      <td>...</td>\n",
              "      <td>...</td>\n",
              "    </tr>\n",
              "    <tr>\n",
              "      <th>99982</th>\n",
              "      <td>0.915074</td>\n",
              "      <td>0.998215</td>\n",
              "      <td>0.50</td>\n",
              "      <td>0.784659</td>\n",
              "      <td>0.151515</td>\n",
              "      <td>1.0</td>\n",
              "      <td>0.90</td>\n",
              "      <td>0.535264</td>\n",
              "      <td>0.065060</td>\n",
              "      <td>0.919831</td>\n",
              "      <td>1.000000</td>\n",
              "      <td>0.000000</td>\n",
              "      <td>0.803710</td>\n",
              "      <td>attacker</td>\n",
              "    </tr>\n",
              "    <tr>\n",
              "      <th>99983</th>\n",
              "      <td>0.915074</td>\n",
              "      <td>0.997620</td>\n",
              "      <td>0.00</td>\n",
              "      <td>0.784663</td>\n",
              "      <td>0.151515</td>\n",
              "      <td>1.0</td>\n",
              "      <td>0.90</td>\n",
              "      <td>0.535264</td>\n",
              "      <td>0.572289</td>\n",
              "      <td>0.919831</td>\n",
              "      <td>1.000000</td>\n",
              "      <td>0.000000</td>\n",
              "      <td>0.803750</td>\n",
              "      <td>attacker</td>\n",
              "    </tr>\n",
              "    <tr>\n",
              "      <th>99984</th>\n",
              "      <td>0.915074</td>\n",
              "      <td>0.998810</td>\n",
              "      <td>0.25</td>\n",
              "      <td>0.784663</td>\n",
              "      <td>0.151515</td>\n",
              "      <td>1.0</td>\n",
              "      <td>0.90</td>\n",
              "      <td>0.535264</td>\n",
              "      <td>0.807229</td>\n",
              "      <td>0.303797</td>\n",
              "      <td>1.000000</td>\n",
              "      <td>0.606061</td>\n",
              "      <td>0.803750</td>\n",
              "      <td>attacker</td>\n",
              "    </tr>\n",
              "    <tr>\n",
              "      <th>99985</th>\n",
              "      <td>0.950106</td>\n",
              "      <td>0.999405</td>\n",
              "      <td>0.50</td>\n",
              "      <td>0.669974</td>\n",
              "      <td>0.318182</td>\n",
              "      <td>1.0</td>\n",
              "      <td>1.00</td>\n",
              "      <td>0.821159</td>\n",
              "      <td>0.996988</td>\n",
              "      <td>0.286920</td>\n",
              "      <td>0.947368</td>\n",
              "      <td>0.090909</td>\n",
              "      <td>0.711816</td>\n",
              "      <td>trustful</td>\n",
              "    </tr>\n",
              "    <tr>\n",
              "      <th>99986</th>\n",
              "      <td>0.971338</td>\n",
              "      <td>1.000000</td>\n",
              "      <td>0.50</td>\n",
              "      <td>0.329763</td>\n",
              "      <td>0.303030</td>\n",
              "      <td>1.0</td>\n",
              "      <td>0.20</td>\n",
              "      <td>0.988665</td>\n",
              "      <td>0.774096</td>\n",
              "      <td>0.966245</td>\n",
              "      <td>0.973684</td>\n",
              "      <td>0.000000</td>\n",
              "      <td>0.405488</td>\n",
              "      <td>attacker</td>\n",
              "    </tr>\n",
              "  </tbody>\n",
              "</table>\n",
              "<p>99987 rows × 14 columns</p>\n",
              "</div>"
            ],
            "text/plain": [
              "        user_id  movie_id  rating  ...     genre  date(UTC)  user_type\n",
              "0      0.207006  0.143367    0.50  ...  0.090909   0.432155   trustful\n",
              "1      0.322718  0.143367    1.00  ...  0.090909   0.673986   trustful\n",
              "2      0.005308  0.143367    0.75  ...  0.090909   0.517514   trustful\n",
              "3      0.247346  0.143367    0.75  ...  0.090909   0.847891   trustful\n",
              "4      0.065817  0.143367    0.50  ...  0.090909   0.079981   trustful\n",
              "...         ...       ...     ...  ...       ...        ...        ...\n",
              "99982  0.915074  0.998215    0.50  ...  0.000000   0.803710   attacker\n",
              "99983  0.915074  0.997620    0.00  ...  0.000000   0.803750   attacker\n",
              "99984  0.915074  0.998810    0.25  ...  0.606061   0.803750   attacker\n",
              "99985  0.950106  0.999405    0.50  ...  0.090909   0.711816   trustful\n",
              "99986  0.971338  1.000000    0.50  ...  0.000000   0.405488   attacker\n",
              "\n",
              "[99987 rows x 14 columns]"
            ]
          },
          "metadata": {},
          "execution_count": 61
        }
      ]
    },
    {
      "cell_type": "code",
      "metadata": {
        "id": "p8T6hzrgNWgV"
      },
      "source": [
        "D['user_type']=l_enc.fit_transform(D['user_type'])"
      ],
      "execution_count": 62,
      "outputs": []
    },
    {
      "cell_type": "code",
      "metadata": {
        "colab": {
          "base_uri": "https://localhost:8080/",
          "height": 417
        },
        "id": "LzbsnAWRNiV-",
        "outputId": "3d277c40-c487-4ae4-88f1-425121797efe"
      },
      "source": [
        "D"
      ],
      "execution_count": 63,
      "outputs": [
        {
          "output_type": "execute_result",
          "data": {
            "text/html": [
              "<div>\n",
              "<style scoped>\n",
              "    .dataframe tbody tr th:only-of-type {\n",
              "        vertical-align: middle;\n",
              "    }\n",
              "\n",
              "    .dataframe tbody tr th {\n",
              "        vertical-align: top;\n",
              "    }\n",
              "\n",
              "    .dataframe thead th {\n",
              "        text-align: right;\n",
              "    }\n",
              "</style>\n",
              "<table border=\"1\" class=\"dataframe\">\n",
              "  <thead>\n",
              "    <tr style=\"text-align: right;\">\n",
              "      <th></th>\n",
              "      <th>user_id</th>\n",
              "      <th>movie_id</th>\n",
              "      <th>rating</th>\n",
              "      <th>timestamp</th>\n",
              "      <th>age</th>\n",
              "      <th>gender</th>\n",
              "      <th>occupation</th>\n",
              "      <th>zipcode</th>\n",
              "      <th>movietitle</th>\n",
              "      <th>releasedate</th>\n",
              "      <th>year</th>\n",
              "      <th>genre</th>\n",
              "      <th>date(UTC)</th>\n",
              "      <th>user_type</th>\n",
              "    </tr>\n",
              "  </thead>\n",
              "  <tbody>\n",
              "    <tr>\n",
              "      <th>0</th>\n",
              "      <td>0.207006</td>\n",
              "      <td>0.143367</td>\n",
              "      <td>0.50</td>\n",
              "      <td>0.351593</td>\n",
              "      <td>0.636364</td>\n",
              "      <td>1.0</td>\n",
              "      <td>1.00</td>\n",
              "      <td>0.476071</td>\n",
              "      <td>0.496386</td>\n",
              "      <td>0.666667</td>\n",
              "      <td>0.986842</td>\n",
              "      <td>0.090909</td>\n",
              "      <td>0.432155</td>\n",
              "      <td>1</td>\n",
              "    </tr>\n",
              "    <tr>\n",
              "      <th>1</th>\n",
              "      <td>0.322718</td>\n",
              "      <td>0.143367</td>\n",
              "      <td>1.00</td>\n",
              "      <td>0.624026</td>\n",
              "      <td>0.242424</td>\n",
              "      <td>1.0</td>\n",
              "      <td>0.70</td>\n",
              "      <td>0.867758</td>\n",
              "      <td>0.496386</td>\n",
              "      <td>0.666667</td>\n",
              "      <td>0.986842</td>\n",
              "      <td>0.090909</td>\n",
              "      <td>0.673986</td>\n",
              "      <td>1</td>\n",
              "    </tr>\n",
              "    <tr>\n",
              "      <th>2</th>\n",
              "      <td>0.005308</td>\n",
              "      <td>0.143367</td>\n",
              "      <td>0.75</td>\n",
              "      <td>0.460268</td>\n",
              "      <td>0.530303</td>\n",
              "      <td>1.0</td>\n",
              "      <td>0.30</td>\n",
              "      <td>0.954660</td>\n",
              "      <td>0.496386</td>\n",
              "      <td>0.666667</td>\n",
              "      <td>0.986842</td>\n",
              "      <td>0.090909</td>\n",
              "      <td>0.517514</td>\n",
              "      <td>1</td>\n",
              "    </tr>\n",
              "    <tr>\n",
              "      <th>3</th>\n",
              "      <td>0.247346</td>\n",
              "      <td>0.143367</td>\n",
              "      <td>0.75</td>\n",
              "      <td>0.878602</td>\n",
              "      <td>0.803030</td>\n",
              "      <td>1.0</td>\n",
              "      <td>0.75</td>\n",
              "      <td>0.889169</td>\n",
              "      <td>0.496386</td>\n",
              "      <td>0.666667</td>\n",
              "      <td>0.986842</td>\n",
              "      <td>0.090909</td>\n",
              "      <td>0.847891</td>\n",
              "      <td>1</td>\n",
              "    </tr>\n",
              "    <tr>\n",
              "      <th>4</th>\n",
              "      <td>0.065817</td>\n",
              "      <td>0.143367</td>\n",
              "      <td>0.50</td>\n",
              "      <td>0.055085</td>\n",
              "      <td>0.363636</td>\n",
              "      <td>1.0</td>\n",
              "      <td>0.55</td>\n",
              "      <td>0.666247</td>\n",
              "      <td>0.496386</td>\n",
              "      <td>0.666667</td>\n",
              "      <td>0.986842</td>\n",
              "      <td>0.090909</td>\n",
              "      <td>0.079981</td>\n",
              "      <td>1</td>\n",
              "    </tr>\n",
              "    <tr>\n",
              "      <th>...</th>\n",
              "      <td>...</td>\n",
              "      <td>...</td>\n",
              "      <td>...</td>\n",
              "      <td>...</td>\n",
              "      <td>...</td>\n",
              "      <td>...</td>\n",
              "      <td>...</td>\n",
              "      <td>...</td>\n",
              "      <td>...</td>\n",
              "      <td>...</td>\n",
              "      <td>...</td>\n",
              "      <td>...</td>\n",
              "      <td>...</td>\n",
              "      <td>...</td>\n",
              "    </tr>\n",
              "    <tr>\n",
              "      <th>99982</th>\n",
              "      <td>0.915074</td>\n",
              "      <td>0.998215</td>\n",
              "      <td>0.50</td>\n",
              "      <td>0.784659</td>\n",
              "      <td>0.151515</td>\n",
              "      <td>1.0</td>\n",
              "      <td>0.90</td>\n",
              "      <td>0.535264</td>\n",
              "      <td>0.065060</td>\n",
              "      <td>0.919831</td>\n",
              "      <td>1.000000</td>\n",
              "      <td>0.000000</td>\n",
              "      <td>0.803710</td>\n",
              "      <td>0</td>\n",
              "    </tr>\n",
              "    <tr>\n",
              "      <th>99983</th>\n",
              "      <td>0.915074</td>\n",
              "      <td>0.997620</td>\n",
              "      <td>0.00</td>\n",
              "      <td>0.784663</td>\n",
              "      <td>0.151515</td>\n",
              "      <td>1.0</td>\n",
              "      <td>0.90</td>\n",
              "      <td>0.535264</td>\n",
              "      <td>0.572289</td>\n",
              "      <td>0.919831</td>\n",
              "      <td>1.000000</td>\n",
              "      <td>0.000000</td>\n",
              "      <td>0.803750</td>\n",
              "      <td>0</td>\n",
              "    </tr>\n",
              "    <tr>\n",
              "      <th>99984</th>\n",
              "      <td>0.915074</td>\n",
              "      <td>0.998810</td>\n",
              "      <td>0.25</td>\n",
              "      <td>0.784663</td>\n",
              "      <td>0.151515</td>\n",
              "      <td>1.0</td>\n",
              "      <td>0.90</td>\n",
              "      <td>0.535264</td>\n",
              "      <td>0.807229</td>\n",
              "      <td>0.303797</td>\n",
              "      <td>1.000000</td>\n",
              "      <td>0.606061</td>\n",
              "      <td>0.803750</td>\n",
              "      <td>0</td>\n",
              "    </tr>\n",
              "    <tr>\n",
              "      <th>99985</th>\n",
              "      <td>0.950106</td>\n",
              "      <td>0.999405</td>\n",
              "      <td>0.50</td>\n",
              "      <td>0.669974</td>\n",
              "      <td>0.318182</td>\n",
              "      <td>1.0</td>\n",
              "      <td>1.00</td>\n",
              "      <td>0.821159</td>\n",
              "      <td>0.996988</td>\n",
              "      <td>0.286920</td>\n",
              "      <td>0.947368</td>\n",
              "      <td>0.090909</td>\n",
              "      <td>0.711816</td>\n",
              "      <td>1</td>\n",
              "    </tr>\n",
              "    <tr>\n",
              "      <th>99986</th>\n",
              "      <td>0.971338</td>\n",
              "      <td>1.000000</td>\n",
              "      <td>0.50</td>\n",
              "      <td>0.329763</td>\n",
              "      <td>0.303030</td>\n",
              "      <td>1.0</td>\n",
              "      <td>0.20</td>\n",
              "      <td>0.988665</td>\n",
              "      <td>0.774096</td>\n",
              "      <td>0.966245</td>\n",
              "      <td>0.973684</td>\n",
              "      <td>0.000000</td>\n",
              "      <td>0.405488</td>\n",
              "      <td>0</td>\n",
              "    </tr>\n",
              "  </tbody>\n",
              "</table>\n",
              "<p>99987 rows × 14 columns</p>\n",
              "</div>"
            ],
            "text/plain": [
              "        user_id  movie_id  rating  ...     genre  date(UTC)  user_type\n",
              "0      0.207006  0.143367    0.50  ...  0.090909   0.432155          1\n",
              "1      0.322718  0.143367    1.00  ...  0.090909   0.673986          1\n",
              "2      0.005308  0.143367    0.75  ...  0.090909   0.517514          1\n",
              "3      0.247346  0.143367    0.75  ...  0.090909   0.847891          1\n",
              "4      0.065817  0.143367    0.50  ...  0.090909   0.079981          1\n",
              "...         ...       ...     ...  ...       ...        ...        ...\n",
              "99982  0.915074  0.998215    0.50  ...  0.000000   0.803710          0\n",
              "99983  0.915074  0.997620    0.00  ...  0.000000   0.803750          0\n",
              "99984  0.915074  0.998810    0.25  ...  0.606061   0.803750          0\n",
              "99985  0.950106  0.999405    0.50  ...  0.090909   0.711816          1\n",
              "99986  0.971338  1.000000    0.50  ...  0.000000   0.405488          0\n",
              "\n",
              "[99987 rows x 14 columns]"
            ]
          },
          "metadata": {},
          "execution_count": 63
        }
      ]
    },
    {
      "cell_type": "code",
      "metadata": {
        "colab": {
          "base_uri": "https://localhost:8080/"
        },
        "id": "yF8BUE9rSN34",
        "outputId": "9692cff4-4be8-4c03-9e27-fff9e866340c"
      },
      "source": [
        "D['user_type'].value_counts()"
      ],
      "execution_count": 64,
      "outputs": [
        {
          "output_type": "execute_result",
          "data": {
            "text/plain": [
              "1    79989\n",
              "0    19998\n",
              "Name: user_type, dtype: int64"
            ]
          },
          "metadata": {},
          "execution_count": 64
        }
      ]
    },
    {
      "cell_type": "code",
      "metadata": {
        "id": "OOQ3wKejN3q1"
      },
      "source": [
        "import matplotlib.pyplot as plt\n",
        "import seaborn as sns"
      ],
      "execution_count": 65,
      "outputs": []
    },
    {
      "cell_type": "code",
      "metadata": {
        "colab": {
          "base_uri": "https://localhost:8080/",
          "height": 313
        },
        "id": "3J09M3GmNs4X",
        "outputId": "29a66c2b-6b7b-461d-cf07-06c7756b2950"
      },
      "source": [
        "LABELS = [\"Trustful\", \"Attacker\"]\n",
        "count_classes = pd.value_counts(D['user_type'], sort = True)\n",
        "count_classes.plot(kind = 'bar', rot=0)\n",
        "plt.title(\"TYPE OF USERS\")\n",
        "plt.xticks(range(2), LABELS)\n",
        "plt.xlabel(\"user_type\")\n",
        "plt.ylabel(\"Frequency\")"
      ],
      "execution_count": 66,
      "outputs": [
        {
          "output_type": "execute_result",
          "data": {
            "text/plain": [
              "Text(0, 0.5, 'Frequency')"
            ]
          },
          "metadata": {},
          "execution_count": 66
        },
        {
          "output_type": "display_data",
          "data": {
            "image/png": "[encoded data removed]",
            "text/plain": [
              "<Figure size 432x288 with 1 Axes>"
            ]
          },
          "metadata": {
            "needs_background": "light"
          }
        }
      ]
    },
    {
      "cell_type": "markdown",
      "metadata": {
        "id": "OQsU9Bb7siCE"
      },
      "source": [
        "# Feature Selection - Pearson Correlation"
      ]
    },
    {
      "cell_type": "code",
      "metadata": {
        "id": "vpBNbby6ssuH"
      },
      "source": [
        "import matplotlib\n",
        "import matplotlib.pyplot as plt\n",
        "import seaborn as sns"
      ],
      "execution_count": 67,
      "outputs": []
    },
    {
      "cell_type": "code",
      "metadata": {
        "colab": {
          "base_uri": "https://localhost:8080/",
          "height": 645
        },
        "id": "lEsvn8OLrGv-",
        "outputId": "9cac38f9-c6b2-49da-b1dc-ef90e68cf749"
      },
      "source": [
        "plt.figure(figsize=(12,10))\n",
        "cor = D.corr()\n",
        "sns.heatmap(cor, annot=True, cmap=plt.cm.Reds)\n",
        "plt.show()"
      ],
      "execution_count": 68,
      "outputs": [
        {
          "output_type": "display_data",
          "data": {
            "image/png": "[encoded data removed]",
            "text/plain": [
              "<Figure size 864x720 with 2 Axes>"
            ]
          },
          "metadata": {
            "needs_background": "light"
          }
        }
      ]
    },
    {
      "cell_type": "code",
      "metadata": {
        "colab": {
          "base_uri": "https://localhost:8080/"
        },
        "id": "cCQAbFm4tGSy",
        "outputId": "bcde1188-60cd-45cb-8b57-e59eade4caec"
      },
      "source": [
        "cor_target = abs(cor[\"user_type\"])\n",
        "relevant_features = cor_target[cor_target>0.1]\n",
        "relevant_features"
      ],
      "execution_count": 69,
      "outputs": [
        {
          "output_type": "execute_result",
          "data": {
            "text/plain": [
              "movie_id     0.156260\n",
              "age          0.129698\n",
              "gender       0.290257\n",
              "year         0.315337\n",
              "genre        0.288307\n",
              "user_type    1.000000\n",
              "Name: user_type, dtype: float64"
            ]
          },
          "metadata": {},
          "execution_count": 69
        }
      ]
    },
    {
      "cell_type": "code",
      "metadata": {
        "colab": {
          "base_uri": "https://localhost:8080/",
          "height": 417
        },
        "id": "GniKMlMwbSyV",
        "outputId": "b7e90b21-d961-455b-9465-b83c25a4f7b0"
      },
      "source": [
        "D.drop(columns=['user_id'], axis=1)"
      ],
      "execution_count": 70,
      "outputs": [
        {
          "output_type": "execute_result",
          "data": {
            "text/html": [
              "<div>\n",
              "<style scoped>\n",
              "    .dataframe tbody tr th:only-of-type {\n",
              "        vertical-align: middle;\n",
              "    }\n",
              "\n",
              "    .dataframe tbody tr th {\n",
              "        vertical-align: top;\n",
              "    }\n",
              "\n",
              "    .dataframe thead th {\n",
              "        text-align: right;\n",
              "    }\n",
              "</style>\n",
              "<table border=\"1\" class=\"dataframe\">\n",
              "  <thead>\n",
              "    <tr style=\"text-align: right;\">\n",
              "      <th></th>\n",
              "      <th>movie_id</th>\n",
              "      <th>rating</th>\n",
              "      <th>timestamp</th>\n",
              "      <th>age</th>\n",
              "      <th>gender</th>\n",
              "      <th>occupation</th>\n",
              "      <th>zipcode</th>\n",
              "      <th>movietitle</th>\n",
              "      <th>releasedate</th>\n",
              "      <th>year</th>\n",
              "      <th>genre</th>\n",
              "      <th>date(UTC)</th>\n",
              "      <th>user_type</th>\n",
              "    </tr>\n",
              "  </thead>\n",
              "  <tbody>\n",
              "    <tr>\n",
              "      <th>0</th>\n",
              "      <td>0.143367</td>\n",
              "      <td>0.50</td>\n",
              "      <td>0.351593</td>\n",
              "      <td>0.636364</td>\n",
              "      <td>1.0</td>\n",
              "      <td>1.00</td>\n",
              "      <td>0.476071</td>\n",
              "      <td>0.496386</td>\n",
              "      <td>0.666667</td>\n",
              "      <td>0.986842</td>\n",
              "      <td>0.090909</td>\n",
              "      <td>0.432155</td>\n",
              "      <td>1</td>\n",
              "    </tr>\n",
              "    <tr>\n",
              "      <th>1</th>\n",
              "      <td>0.143367</td>\n",
              "      <td>1.00</td>\n",
              "      <td>0.624026</td>\n",
              "      <td>0.242424</td>\n",
              "      <td>1.0</td>\n",
              "      <td>0.70</td>\n",
              "      <td>0.867758</td>\n",
              "      <td>0.496386</td>\n",
              "      <td>0.666667</td>\n",
              "      <td>0.986842</td>\n",
              "      <td>0.090909</td>\n",
              "      <td>0.673986</td>\n",
              "      <td>1</td>\n",
              "    </tr>\n",
              "    <tr>\n",
              "      <th>2</th>\n",
              "      <td>0.143367</td>\n",
              "      <td>0.75</td>\n",
              "      <td>0.460268</td>\n",
              "      <td>0.530303</td>\n",
              "      <td>1.0</td>\n",
              "      <td>0.30</td>\n",
              "      <td>0.954660</td>\n",
              "      <td>0.496386</td>\n",
              "      <td>0.666667</td>\n",
              "      <td>0.986842</td>\n",
              "      <td>0.090909</td>\n",
              "      <td>0.517514</td>\n",
              "      <td>1</td>\n",
              "    </tr>\n",
              "    <tr>\n",
              "      <th>3</th>\n",
              "      <td>0.143367</td>\n",
              "      <td>0.75</td>\n",
              "      <td>0.878602</td>\n",
              "      <td>0.803030</td>\n",
              "      <td>1.0</td>\n",
              "      <td>0.75</td>\n",
              "      <td>0.889169</td>\n",
              "      <td>0.496386</td>\n",
              "      <td>0.666667</td>\n",
              "      <td>0.986842</td>\n",
              "      <td>0.090909</td>\n",
              "      <td>0.847891</td>\n",
              "      <td>1</td>\n",
              "    </tr>\n",
              "    <tr>\n",
              "      <th>4</th>\n",
              "      <td>0.143367</td>\n",
              "      <td>0.50</td>\n",
              "      <td>0.055085</td>\n",
              "      <td>0.363636</td>\n",
              "      <td>1.0</td>\n",
              "      <td>0.55</td>\n",
              "      <td>0.666247</td>\n",
              "      <td>0.496386</td>\n",
              "      <td>0.666667</td>\n",
              "      <td>0.986842</td>\n",
              "      <td>0.090909</td>\n",
              "      <td>0.079981</td>\n",
              "      <td>1</td>\n",
              "    </tr>\n",
              "    <tr>\n",
              "      <th>...</th>\n",
              "      <td>...</td>\n",
              "      <td>...</td>\n",
              "      <td>...</td>\n",
              "      <td>...</td>\n",
              "      <td>...</td>\n",
              "      <td>...</td>\n",
              "      <td>...</td>\n",
              "      <td>...</td>\n",
              "      <td>...</td>\n",
              "      <td>...</td>\n",
              "      <td>...</td>\n",
              "      <td>...</td>\n",
              "      <td>...</td>\n",
              "    </tr>\n",
              "    <tr>\n",
              "      <th>99982</th>\n",
              "      <td>0.998215</td>\n",
              "      <td>0.50</td>\n",
              "      <td>0.784659</td>\n",
              "      <td>0.151515</td>\n",
              "      <td>1.0</td>\n",
              "      <td>0.90</td>\n",
              "      <td>0.535264</td>\n",
              "      <td>0.065060</td>\n",
              "      <td>0.919831</td>\n",
              "      <td>1.000000</td>\n",
              "      <td>0.000000</td>\n",
              "      <td>0.803710</td>\n",
              "      <td>0</td>\n",
              "    </tr>\n",
              "    <tr>\n",
              "      <th>99983</th>\n",
              "      <td>0.997620</td>\n",
              "      <td>0.00</td>\n",
              "      <td>0.784663</td>\n",
              "      <td>0.151515</td>\n",
              "      <td>1.0</td>\n",
              "      <td>0.90</td>\n",
              "      <td>0.535264</td>\n",
              "      <td>0.572289</td>\n",
              "      <td>0.919831</td>\n",
              "      <td>1.000000</td>\n",
              "      <td>0.000000</td>\n",
              "      <td>0.803750</td>\n",
              "      <td>0</td>\n",
              "    </tr>\n",
              "    <tr>\n",
              "      <th>99984</th>\n",
              "      <td>0.998810</td>\n",
              "      <td>0.25</td>\n",
              "      <td>0.784663</td>\n",
              "      <td>0.151515</td>\n",
              "      <td>1.0</td>\n",
              "      <td>0.90</td>\n",
              "      <td>0.535264</td>\n",
              "      <td>0.807229</td>\n",
              "      <td>0.303797</td>\n",
              "      <td>1.000000</td>\n",
              "      <td>0.606061</td>\n",
              "      <td>0.803750</td>\n",
              "      <td>0</td>\n",
              "    </tr>\n",
              "    <tr>\n",
              "      <th>99985</th>\n",
              "      <td>0.999405</td>\n",
              "      <td>0.50</td>\n",
              "      <td>0.669974</td>\n",
              "      <td>0.318182</td>\n",
              "      <td>1.0</td>\n",
              "      <td>1.00</td>\n",
              "      <td>0.821159</td>\n",
              "      <td>0.996988</td>\n",
              "      <td>0.286920</td>\n",
              "      <td>0.947368</td>\n",
              "      <td>0.090909</td>\n",
              "      <td>0.711816</td>\n",
              "      <td>1</td>\n",
              "    </tr>\n",
              "    <tr>\n",
              "      <th>99986</th>\n",
              "      <td>1.000000</td>\n",
              "      <td>0.50</td>\n",
              "      <td>0.329763</td>\n",
              "      <td>0.303030</td>\n",
              "      <td>1.0</td>\n",
              "      <td>0.20</td>\n",
              "      <td>0.988665</td>\n",
              "      <td>0.774096</td>\n",
              "      <td>0.966245</td>\n",
              "      <td>0.973684</td>\n",
              "      <td>0.000000</td>\n",
              "      <td>0.405488</td>\n",
              "      <td>0</td>\n",
              "    </tr>\n",
              "  </tbody>\n",
              "</table>\n",
              "<p>99987 rows × 13 columns</p>\n",
              "</div>"
            ],
            "text/plain": [
              "       movie_id  rating  timestamp  ...     genre  date(UTC)  user_type\n",
              "0      0.143367    0.50   0.351593  ...  0.090909   0.432155          1\n",
              "1      0.143367    1.00   0.624026  ...  0.090909   0.673986          1\n",
              "2      0.143367    0.75   0.460268  ...  0.090909   0.517514          1\n",
              "3      0.143367    0.75   0.878602  ...  0.090909   0.847891          1\n",
              "4      0.143367    0.50   0.055085  ...  0.090909   0.079981          1\n",
              "...         ...     ...        ...  ...       ...        ...        ...\n",
              "99982  0.998215    0.50   0.784659  ...  0.000000   0.803710          0\n",
              "99983  0.997620    0.00   0.784663  ...  0.000000   0.803750          0\n",
              "99984  0.998810    0.25   0.784663  ...  0.606061   0.803750          0\n",
              "99985  0.999405    0.50   0.669974  ...  0.090909   0.711816          1\n",
              "99986  1.000000    0.50   0.329763  ...  0.000000   0.405488          0\n",
              "\n",
              "[99987 rows x 13 columns]"
            ]
          },
          "metadata": {},
          "execution_count": 70
        }
      ]
    },
    {
      "cell_type": "code",
      "metadata": {
        "colab": {
          "base_uri": "https://localhost:8080/",
          "height": 417
        },
        "id": "MDEQNpQBb9uW",
        "outputId": "b29dcbbf-ff8b-4dd5-c007-4f256a15f9db"
      },
      "source": [
        "D.drop(columns=['timestamp','age','occupation','zipcode','movietitle','date(UTC)'],axis=1)"
      ],
      "execution_count": 71,
      "outputs": [
        {
          "output_type": "execute_result",
          "data": {
            "text/html": [
              "<div>\n",
              "<style scoped>\n",
              "    .dataframe tbody tr th:only-of-type {\n",
              "        vertical-align: middle;\n",
              "    }\n",
              "\n",
              "    .dataframe tbody tr th {\n",
              "        vertical-align: top;\n",
              "    }\n",
              "\n",
              "    .dataframe thead th {\n",
              "        text-align: right;\n",
              "    }\n",
              "</style>\n",
              "<table border=\"1\" class=\"dataframe\">\n",
              "  <thead>\n",
              "    <tr style=\"text-align: right;\">\n",
              "      <th></th>\n",
              "      <th>user_id</th>\n",
              "      <th>movie_id</th>\n",
              "      <th>rating</th>\n",
              "      <th>gender</th>\n",
              "      <th>releasedate</th>\n",
              "      <th>year</th>\n",
              "      <th>genre</th>\n",
              "      <th>user_type</th>\n",
              "    </tr>\n",
              "  </thead>\n",
              "  <tbody>\n",
              "    <tr>\n",
              "      <th>0</th>\n",
              "      <td>0.207006</td>\n",
              "      <td>0.143367</td>\n",
              "      <td>0.50</td>\n",
              "      <td>1.0</td>\n",
              "      <td>0.666667</td>\n",
              "      <td>0.986842</td>\n",
              "      <td>0.090909</td>\n",
              "      <td>1</td>\n",
              "    </tr>\n",
              "    <tr>\n",
              "      <th>1</th>\n",
              "      <td>0.322718</td>\n",
              "      <td>0.143367</td>\n",
              "      <td>1.00</td>\n",
              "      <td>1.0</td>\n",
              "      <td>0.666667</td>\n",
              "      <td>0.986842</td>\n",
              "      <td>0.090909</td>\n",
              "      <td>1</td>\n",
              "    </tr>\n",
              "    <tr>\n",
              "      <th>2</th>\n",
              "      <td>0.005308</td>\n",
              "      <td>0.143367</td>\n",
              "      <td>0.75</td>\n",
              "      <td>1.0</td>\n",
              "      <td>0.666667</td>\n",
              "      <td>0.986842</td>\n",
              "      <td>0.090909</td>\n",
              "      <td>1</td>\n",
              "    </tr>\n",
              "    <tr>\n",
              "      <th>3</th>\n",
              "      <td>0.247346</td>\n",
              "      <td>0.143367</td>\n",
              "      <td>0.75</td>\n",
              "      <td>1.0</td>\n",
              "      <td>0.666667</td>\n",
              "      <td>0.986842</td>\n",
              "      <td>0.090909</td>\n",
              "      <td>1</td>\n",
              "    </tr>\n",
              "    <tr>\n",
              "      <th>4</th>\n",
              "      <td>0.065817</td>\n",
              "      <td>0.143367</td>\n",
              "      <td>0.50</td>\n",
              "      <td>1.0</td>\n",
              "      <td>0.666667</td>\n",
              "      <td>0.986842</td>\n",
              "      <td>0.090909</td>\n",
              "      <td>1</td>\n",
              "    </tr>\n",
              "    <tr>\n",
              "      <th>...</th>\n",
              "      <td>...</td>\n",
              "      <td>...</td>\n",
              "      <td>...</td>\n",
              "      <td>...</td>\n",
              "      <td>...</td>\n",
              "      <td>...</td>\n",
              "      <td>...</td>\n",
              "      <td>...</td>\n",
              "    </tr>\n",
              "    <tr>\n",
              "      <th>99982</th>\n",
              "      <td>0.915074</td>\n",
              "      <td>0.998215</td>\n",
              "      <td>0.50</td>\n",
              "      <td>1.0</td>\n",
              "      <td>0.919831</td>\n",
              "      <td>1.000000</td>\n",
              "      <td>0.000000</td>\n",
              "      <td>0</td>\n",
              "    </tr>\n",
              "    <tr>\n",
              "      <th>99983</th>\n",
              "      <td>0.915074</td>\n",
              "      <td>0.997620</td>\n",
              "      <td>0.00</td>\n",
              "      <td>1.0</td>\n",
              "      <td>0.919831</td>\n",
              "      <td>1.000000</td>\n",
              "      <td>0.000000</td>\n",
              "      <td>0</td>\n",
              "    </tr>\n",
              "    <tr>\n",
              "      <th>99984</th>\n",
              "      <td>0.915074</td>\n",
              "      <td>0.998810</td>\n",
              "      <td>0.25</td>\n",
              "      <td>1.0</td>\n",
              "      <td>0.303797</td>\n",
              "      <td>1.000000</td>\n",
              "      <td>0.606061</td>\n",
              "      <td>0</td>\n",
              "    </tr>\n",
              "    <tr>\n",
              "      <th>99985</th>\n",
              "      <td>0.950106</td>\n",
              "      <td>0.999405</td>\n",
              "      <td>0.50</td>\n",
              "      <td>1.0</td>\n",
              "      <td>0.286920</td>\n",
              "      <td>0.947368</td>\n",
              "      <td>0.090909</td>\n",
              "      <td>1</td>\n",
              "    </tr>\n",
              "    <tr>\n",
              "      <th>99986</th>\n",
              "      <td>0.971338</td>\n",
              "      <td>1.000000</td>\n",
              "      <td>0.50</td>\n",
              "      <td>1.0</td>\n",
              "      <td>0.966245</td>\n",
              "      <td>0.973684</td>\n",
              "      <td>0.000000</td>\n",
              "      <td>0</td>\n",
              "    </tr>\n",
              "  </tbody>\n",
              "</table>\n",
              "<p>99987 rows × 8 columns</p>\n",
              "</div>"
            ],
            "text/plain": [
              "        user_id  movie_id  rating  ...      year     genre  user_type\n",
              "0      0.207006  0.143367    0.50  ...  0.986842  0.090909          1\n",
              "1      0.322718  0.143367    1.00  ...  0.986842  0.090909          1\n",
              "2      0.005308  0.143367    0.75  ...  0.986842  0.090909          1\n",
              "3      0.247346  0.143367    0.75  ...  0.986842  0.090909          1\n",
              "4      0.065817  0.143367    0.50  ...  0.986842  0.090909          1\n",
              "...         ...       ...     ...  ...       ...       ...        ...\n",
              "99982  0.915074  0.998215    0.50  ...  1.000000  0.000000          0\n",
              "99983  0.915074  0.997620    0.00  ...  1.000000  0.000000          0\n",
              "99984  0.915074  0.998810    0.25  ...  1.000000  0.606061          0\n",
              "99985  0.950106  0.999405    0.50  ...  0.947368  0.090909          1\n",
              "99986  0.971338  1.000000    0.50  ...  0.973684  0.000000          0\n",
              "\n",
              "[99987 rows x 8 columns]"
            ]
          },
          "metadata": {},
          "execution_count": 71
        }
      ]
    },
    {
      "cell_type": "code",
      "metadata": {
        "id": "y1SEKWCaaUEU",
        "colab": {
          "base_uri": "https://localhost:8080/"
        },
        "outputId": "53ba98d6-2982-495c-be8b-faee462c5e2a"
      },
      "source": [
        "x=D.iloc[:,[0,1,2,3,4,5,6]]\n",
        "y=D['user_type']\n",
        "print(D['user_type'])"
      ],
      "execution_count": 93,
      "outputs": [
        {
          "output_type": "stream",
          "name": "stdout",
          "text": [
            "0        1\n",
            "1        1\n",
            "2        1\n",
            "3        1\n",
            "4        1\n",
            "        ..\n",
            "99982    0\n",
            "99983    0\n",
            "99984    0\n",
            "99985    1\n",
            "99986    0\n",
            "Name: user_type, Length: 99987, dtype: int64\n"
          ]
        }
      ]
    },
    {
      "cell_type": "code",
      "metadata": {
        "colab": {
          "base_uri": "https://localhost:8080/"
        },
        "id": "W7DMrd8ldQaX",
        "outputId": "9ea89275-8029-4b00-de0f-a51643d162d0"
      },
      "source": [
        "x.shape"
      ],
      "execution_count": 73,
      "outputs": [
        {
          "output_type": "execute_result",
          "data": {
            "text/plain": [
              "(99987, 7)"
            ]
          },
          "metadata": {},
          "execution_count": 73
        }
      ]
    },
    {
      "cell_type": "code",
      "metadata": {
        "colab": {
          "base_uri": "https://localhost:8080/"
        },
        "id": "MnC3caBjdSCz",
        "outputId": "095c6080-a2ae-4945-91e1-8d591f548e52"
      },
      "source": [
        "y.shape"
      ],
      "execution_count": 74,
      "outputs": [
        {
          "output_type": "execute_result",
          "data": {
            "text/plain": [
              "(99987,)"
            ]
          },
          "metadata": {},
          "execution_count": 74
        }
      ]
    },
    {
      "cell_type": "code",
      "metadata": {
        "id": "3TDcDnv5dX9q"
      },
      "source": [
        "from sklearn.model_selection import train_test_split"
      ],
      "execution_count": 75,
      "outputs": []
    },
    {
      "cell_type": "code",
      "metadata": {
        "id": "7PfSHlO-daSJ"
      },
      "source": [
        "x_train,x_test,y_train,y_test=train_test_split(x,y,test_size=0.2,random_state=0)"
      ],
      "execution_count": 94,
      "outputs": []
    },
    {
      "cell_type": "code",
      "metadata": {
        "colab": {
          "base_uri": "https://localhost:8080/"
        },
        "id": "3eFQybwKdrso",
        "outputId": "af173ca6-a7b7-460e-a7f8-119a87595365"
      },
      "source": [
        "x_train.shape"
      ],
      "execution_count": 77,
      "outputs": [
        {
          "output_type": "execute_result",
          "data": {
            "text/plain": [
              "(79989, 7)"
            ]
          },
          "metadata": {},
          "execution_count": 77
        }
      ]
    },
    {
      "cell_type": "code",
      "metadata": {
        "colab": {
          "base_uri": "https://localhost:8080/"
        },
        "id": "d9JFFDUMdt14",
        "outputId": "d1ce9b73-39a2-4921-994a-33dfc755b988"
      },
      "source": [
        "y_train.shape"
      ],
      "execution_count": 78,
      "outputs": [
        {
          "output_type": "execute_result",
          "data": {
            "text/plain": [
              "(79989,)"
            ]
          },
          "metadata": {},
          "execution_count": 78
        }
      ]
    },
    {
      "cell_type": "code",
      "metadata": {
        "colab": {
          "base_uri": "https://localhost:8080/"
        },
        "id": "gNSX4BUCdwIa",
        "outputId": "8c402008-eca8-45ee-eb97-38d66a485e2a"
      },
      "source": [
        "x_test.shape\n"
      ],
      "execution_count": 79,
      "outputs": [
        {
          "output_type": "execute_result",
          "data": {
            "text/plain": [
              "(19998, 7)"
            ]
          },
          "metadata": {},
          "execution_count": 79
        }
      ]
    },
    {
      "cell_type": "code",
      "metadata": {
        "colab": {
          "base_uri": "https://localhost:8080/"
        },
        "id": "iK8ZM7Vqd34J",
        "outputId": "3ba5660d-81a4-407d-d796-5f923cad4e43"
      },
      "source": [
        "y_test.shape"
      ],
      "execution_count": 80,
      "outputs": [
        {
          "output_type": "execute_result",
          "data": {
            "text/plain": [
              "(19998,)"
            ]
          },
          "metadata": {},
          "execution_count": 80
        }
      ]
    },
    {
      "cell_type": "code",
      "metadata": {
        "colab": {
          "base_uri": "https://localhost:8080/"
        },
        "id": "6vMAn7figUkV",
        "outputId": "9783ff6d-27e0-4334-9334-2b9eff8a5dc3"
      },
      "source": [
        "print(x_train)"
      ],
      "execution_count": 85,
      "outputs": [
        {
          "output_type": "stream",
          "name": "stdout",
          "text": [
            "        user_id  movie_id  rating  timestamp       age  gender  occupation\n",
            "63240  0.441614  0.325996    0.50   0.265232  0.303030     0.0        0.65\n",
            "58652  0.903397  0.162403    0.50   0.878770  0.590909     1.0        0.00\n",
            "53488  0.961783  0.549078    1.00   0.292778  0.272727     0.0        0.65\n",
            "94392  0.500000  0.544319    1.00   0.973278  0.257576     1.0        0.90\n",
            "88548  0.642251  0.367638    0.75   0.333901  0.318182     1.0        0.70\n",
            "...         ...       ...     ...        ...       ...     ...         ...\n",
            "21243  0.347134  0.256990    0.25   0.556136  0.666667     1.0        0.00\n",
            "45891  0.096603  0.392029    0.75   0.050071  0.378788     1.0        0.25\n",
            "42613  0.404459  0.089233    0.75   0.065840  0.575758     1.0        0.20\n",
            "43567  0.853503  0.514575    0.00   0.376076  0.303030     0.0        0.65\n",
            "68268  0.346072  0.293278    0.75   0.705621  0.227273     1.0        0.90\n",
            "\n",
            "[79989 rows x 7 columns]\n"
          ]
        }
      ]
    },
    {
      "cell_type": "code",
      "metadata": {
        "colab": {
          "base_uri": "https://localhost:8080/"
        },
        "id": "2CsDxPMngZkY",
        "outputId": "bae69f60-4ff5-451d-db25-ff86130d1159"
      },
      "source": [
        "print(y_train)"
      ],
      "execution_count": 86,
      "outputs": [
        {
          "output_type": "stream",
          "name": "stdout",
          "text": [
            "63240    0.400504\n",
            "58652    0.867758\n",
            "53488    0.734257\n",
            "94392    0.782116\n",
            "88548    0.581864\n",
            "           ...   \n",
            "21243    0.618388\n",
            "45891    0.732997\n",
            "42613    0.099496\n",
            "43567    0.129723\n",
            "68268    0.022670\n",
            "Name: zipcode, Length: 79989, dtype: float64\n"
          ]
        }
      ]
    },
    {
      "cell_type": "markdown",
      "metadata": {
        "id": "mte8a9s2f8bG"
      },
      "source": [
        "# Model Implementations"
      ]
    },
    {
      "cell_type": "code",
      "metadata": {
        "id": "BvzurnOXaiQz"
      },
      "source": [
        "from sklearn.neighbors import KNeighborsClassifier\n",
        "from sklearn.ensemble import RandomForestClassifier\n",
        "from sklearn.tree import DecisionTreeClassifier\n",
        "from sklearn.linear_model import SGDClassifier\n",
        "from sklearn.linear_model import LogisticRegression\n",
        "from sklearn.naive_bayes import GaussianNB\n",
        "from sklearn.svm import SVC\n",
        "from sklearn.model_selection import train_test_split\n",
        "from sklearn.metrics import classification_report\n",
        "from sklearn.metrics import accuracy_score\n",
        "from sklearn.metrics import recall_score\n",
        "from sklearn.metrics import f1_score\n",
        "from sklearn.metrics import precision_score\n",
        "from sklearn.neural_network import MLPClassifier"
      ],
      "execution_count": 96,
      "outputs": []
    },
    {
      "cell_type": "markdown",
      "metadata": {
        "id": "AzjOv9hbajdg"
      },
      "source": [
        "# Linear - SVM( support Vector Machine )"
      ]
    },
    {
      "cell_type": "code",
      "metadata": {
        "id": "S0NfO33Gfkyc"
      },
      "source": [
        "lsvm = SVC(kernel = 'linear', random_state = 0)\n",
        "lsvm.fit(x_train, y_train)\n",
        "y_pred1 = lsvm.predict(x_test)\n",
        "p1= precision_score(y_test, y_pred1)\n",
        "r1=recall_score(y_test, y_pred1)\n",
        "f1=f1_score(y_test, y_pred1)"
      ],
      "execution_count": 97,
      "outputs": []
    },
    {
      "cell_type": "code",
      "metadata": {
        "colab": {
          "base_uri": "https://localhost:8080/"
        },
        "id": "EM7W_KZffQFy",
        "outputId": "5266c83c-aa0c-4b35-c878-0e2b4befbab4"
      },
      "source": [
        "print(classification_report(y_test, y_pred1))"
      ],
      "execution_count": 99,
      "outputs": [
        {
          "output_type": "stream",
          "name": "stdout",
          "text": [
            "              precision    recall  f1-score   support\n",
            "\n",
            "           0       0.00      0.00      0.00      4028\n",
            "           1       0.80      1.00      0.89     15970\n",
            "\n",
            "    accuracy                           0.80     19998\n",
            "   macro avg       0.40      0.50      0.44     19998\n",
            "weighted avg       0.64      0.80      0.71     19998\n",
            "\n"
          ]
        },
        {
          "output_type": "stream",
          "name": "stderr",
          "text": [
            "/usr/local/lib/python3.7/dist-packages/sklearn/metrics/_classification.py:1308: UndefinedMetricWarning: Precision and F-score are ill-defined and being set to 0.0 in labels with no predicted samples. Use `zero_division` parameter to control this behavior.\n",
            "  _warn_prf(average, modifier, msg_start, len(result))\n",
            "/usr/local/lib/python3.7/dist-packages/sklearn/metrics/_classification.py:1308: UndefinedMetricWarning: Precision and F-score are ill-defined and being set to 0.0 in labels with no predicted samples. Use `zero_division` parameter to control this behavior.\n",
            "  _warn_prf(average, modifier, msg_start, len(result))\n",
            "/usr/local/lib/python3.7/dist-packages/sklearn/metrics/_classification.py:1308: UndefinedMetricWarning: Precision and F-score are ill-defined and being set to 0.0 in labels with no predicted samples. Use `zero_division` parameter to control this behavior.\n",
            "  _warn_prf(average, modifier, msg_start, len(result))\n"
          ]
        }
      ]
    },
    {
      "cell_type": "code",
      "metadata": {
        "colab": {
          "base_uri": "https://localhost:8080/"
        },
        "id": "scv_K0g6fVUg",
        "outputId": "93ea9c88-bd84-4570-cf26-15d4d5ba5e53"
      },
      "source": [
        "accuracy_score(y_test, y_pred1)"
      ],
      "execution_count": null,
      "outputs": [
        {
          "output_type": "execute_result",
          "data": {
            "text/plain": [
              "1.0"
            ]
          },
          "metadata": {},
          "execution_count": 76
        }
      ]
    },
    {
      "cell_type": "code",
      "metadata": {
        "colab": {
          "base_uri": "https://localhost:8080/"
        },
        "id": "Az3E3JfxQhf3",
        "outputId": "ce7f1811-8469-4646-81a2-2ddd625c3a11"
      },
      "source": [
        "r2_score(y_test, y_pred1)"
      ],
      "execution_count": null,
      "outputs": [
        {
          "output_type": "execute_result",
          "data": {
            "text/plain": [
              "1.0"
            ]
          },
          "metadata": {},
          "execution_count": 83
        }
      ]
    },
    {
      "cell_type": "markdown",
      "metadata": {
        "id": "NrQWv9f8fyyB"
      },
      "source": [
        "#  Non - Linear SVM( support Vector Machine )"
      ]
    },
    {
      "cell_type": "code",
      "metadata": {
        "id": "akImvbxzgETP"
      },
      "source": [
        "nlsvm = SVC(kernel = 'rbf', random_state = 1)\n",
        "nlsvm.fit(x_train, y_train)\n",
        "y_pred11 = nlsvm.predict(x_test)\n",
        "p2= precision_score(y_test, y_pred11)\n",
        "r2=recall_score(y_test, y_pred11)\n",
        "f2=f1_score(y_test, y_pred11)"
      ],
      "execution_count": 100,
      "outputs": []
    },
    {
      "cell_type": "code",
      "metadata": {
        "colab": {
          "base_uri": "https://localhost:8080/"
        },
        "id": "W58UOImogI_3",
        "outputId": "6e020b43-5c56-4c9e-c08f-3061f0bfbe62"
      },
      "source": [
        "print(classification_report(y_test, y_pred11))"
      ],
      "execution_count": 101,
      "outputs": [
        {
          "output_type": "stream",
          "name": "stdout",
          "text": [
            "              precision    recall  f1-score   support\n",
            "\n",
            "           0       0.76      0.27      0.39      4028\n",
            "           1       0.84      0.98      0.90     15970\n",
            "\n",
            "    accuracy                           0.83     19998\n",
            "   macro avg       0.80      0.62      0.65     19998\n",
            "weighted avg       0.82      0.83      0.80     19998\n",
            "\n"
          ]
        }
      ]
    },
    {
      "cell_type": "code",
      "metadata": {
        "id": "WkfjWYf7gK2I"
      },
      "source": [
        "accuracy_score(y_test, y_pred11)"
      ],
      "execution_count": null,
      "outputs": []
    },
    {
      "cell_type": "code",
      "metadata": {
        "id": "yF51ZRyxQqxB"
      },
      "source": [
        "r2_score(y_test, y_pred11)"
      ],
      "execution_count": null,
      "outputs": []
    },
    {
      "cell_type": "markdown",
      "metadata": {
        "id": "09KH_Kw7gykr"
      },
      "source": [
        "# Naive Bayes Classification"
      ]
    },
    {
      "cell_type": "code",
      "metadata": {
        "id": "8Uq08rUQg2Hk"
      },
      "source": [
        "nb = GaussianNB()\n",
        "nb.fit(x_train, y_train)\n",
        "y_pred2 = nb.predict(x_test)\n",
        "p3= precision_score(y_test, y_pred2)\n",
        "r3=recall_score(y_test, y_pred2)\n",
        "f3=f1_score(y_test, y_pred2)"
      ],
      "execution_count": 102,
      "outputs": []
    },
    {
      "cell_type": "code",
      "metadata": {
        "colab": {
          "base_uri": "https://localhost:8080/"
        },
        "id": "Aor_A8yDg5rB",
        "outputId": "d28a0e4d-475f-4fad-a31e-2e18cf201a4b"
      },
      "source": [
        "print(classification_report(y_test, y_pred2))"
      ],
      "execution_count": 103,
      "outputs": [
        {
          "output_type": "stream",
          "name": "stdout",
          "text": [
            "              precision    recall  f1-score   support\n",
            "\n",
            "           0       0.59      0.31      0.41      4028\n",
            "           1       0.85      0.95      0.89     15970\n",
            "\n",
            "    accuracy                           0.82     19998\n",
            "   macro avg       0.72      0.63      0.65     19998\n",
            "weighted avg       0.79      0.82      0.80     19998\n",
            "\n"
          ]
        }
      ]
    },
    {
      "cell_type": "code",
      "metadata": {
        "colab": {
          "base_uri": "https://localhost:8080/"
        },
        "id": "f8TpCLAkg76L",
        "outputId": "9551847c-b45c-441e-d6b9-cdc35d47b171"
      },
      "source": [
        "accuracy_score(y_test, y_pred2)"
      ],
      "execution_count": 106,
      "outputs": [
        {
          "output_type": "execute_result",
          "data": {
            "text/plain": [
              "0.8181818181818182"
            ]
          },
          "metadata": {},
          "execution_count": 106
        }
      ]
    },
    {
      "cell_type": "code",
      "metadata": {
        "colab": {
          "base_uri": "https://localhost:8080/"
        },
        "id": "TjSA9g5_QvR7",
        "outputId": "7db0673f-cd4c-440a-91d3-bc71b4576b74"
      },
      "source": [
        "r2_score(y_test, y_pred2)"
      ],
      "execution_count": 107,
      "outputs": [
        {
          "output_type": "execute_result",
          "data": {
            "text/plain": [
              "-0.13035812555691906"
            ]
          },
          "metadata": {},
          "execution_count": 107
        }
      ]
    },
    {
      "cell_type": "markdown",
      "metadata": {
        "id": "5EIelcdMjhEK"
      },
      "source": [
        "\n",
        "\n",
        "# Decision Tree"
      ]
    },
    {
      "cell_type": "code",
      "metadata": {
        "id": "SP-KCSFBh4CL"
      },
      "source": [
        "dt = DecisionTreeClassifier()\n",
        "dt.fit(x_train, y_train)\n",
        "y_pred3 = dt.predict(x_test)\n",
        "p4= precision_score(y_test, y_pred3)\n",
        "r4=recall_score(y_test, y_pred3)\n",
        "f4=f1_score(y_test, y_pred3)"
      ],
      "execution_count": 104,
      "outputs": []
    },
    {
      "cell_type": "code",
      "metadata": {
        "colab": {
          "base_uri": "https://localhost:8080/"
        },
        "id": "pdhWtseMjoxk",
        "outputId": "8c5c0088-b3b9-4e19-88c7-5bcaad597994"
      },
      "source": [
        "print(classification_report(y_test, y_pred3))"
      ],
      "execution_count": 105,
      "outputs": [
        {
          "output_type": "stream",
          "name": "stdout",
          "text": [
            "              precision    recall  f1-score   support\n",
            "\n",
            "           0       0.60      0.60      0.60      4028\n",
            "           1       0.90      0.90      0.90     15970\n",
            "\n",
            "    accuracy                           0.84     19998\n",
            "   macro avg       0.75      0.75      0.75     19998\n",
            "weighted avg       0.84      0.84      0.84     19998\n",
            "\n"
          ]
        }
      ]
    },
    {
      "cell_type": "code",
      "metadata": {
        "colab": {
          "base_uri": "https://localhost:8080/"
        },
        "id": "cl7zrNnHjxj-",
        "outputId": "930c4dee-c9d8-4239-dcac-114c5b5b7f4b"
      },
      "source": [
        "accuracy_score(y_test, y_pred3)"
      ],
      "execution_count": 108,
      "outputs": [
        {
          "output_type": "execute_result",
          "data": {
            "text/plain": [
              "0.8401840184018402"
            ]
          },
          "metadata": {},
          "execution_count": 108
        }
      ]
    },
    {
      "cell_type": "code",
      "metadata": {
        "colab": {
          "base_uri": "https://localhost:8080/"
        },
        "id": "d-_HhQMxQ3G6",
        "outputId": "d3ac2a41-1086-4181-e688-fe8dfa4fd592"
      },
      "source": [
        "r2_score(y_test, y_pred3)"
      ],
      "execution_count": 109,
      "outputs": [
        {
          "output_type": "execute_result",
          "data": {
            "text/plain": [
              "0.006428886336657613"
            ]
          },
          "metadata": {},
          "execution_count": 109
        }
      ]
    },
    {
      "cell_type": "markdown",
      "metadata": {
        "id": "ZeruF-AFjP0E"
      },
      "source": [
        "# K Nearest Neighbors Classifier"
      ]
    },
    {
      "cell_type": "code",
      "metadata": {
        "id": "PlDpe5OLjP0F"
      },
      "source": [
        "n3 = KNeighborsClassifier(n_neighbors = 3)\n",
        "n3.fit(x_train, y_train)\n",
        "y_pred4 = n3.predict(x_test)\n",
        "p5= precision_score(y_test, y_pred4)\n",
        "r5=recall_score(y_test, y_pred4)\n",
        "f5=f1_score(y_test, y_pred4)"
      ],
      "execution_count": 110,
      "outputs": []
    },
    {
      "cell_type": "code",
      "metadata": {
        "colab": {
          "base_uri": "https://localhost:8080/"
        },
        "id": "LaHceUJKkAGQ",
        "outputId": "fa2d2afd-62ba-463d-912c-0e8e869c2b95"
      },
      "source": [
        "print(classification_report(y_test,y_pred4))"
      ],
      "execution_count": 111,
      "outputs": [
        {
          "output_type": "stream",
          "name": "stdout",
          "text": [
            "              precision    recall  f1-score   support\n",
            "\n",
            "           0       0.57      0.45      0.50      4028\n",
            "           1       0.87      0.92      0.89     15970\n",
            "\n",
            "    accuracy                           0.82     19998\n",
            "   macro avg       0.72      0.68      0.70     19998\n",
            "weighted avg       0.81      0.82      0.81     19998\n",
            "\n"
          ]
        }
      ]
    },
    {
      "cell_type": "code",
      "metadata": {
        "colab": {
          "base_uri": "https://localhost:8080/"
        },
        "id": "Hl8K-WA8kEE8",
        "outputId": "ebeb53a7-accc-43ef-8680-2bebab6e894f"
      },
      "source": [
        "accuracy_score(y_test, y_pred4)"
      ],
      "execution_count": 112,
      "outputs": [
        {
          "output_type": "execute_result",
          "data": {
            "text/plain": [
              "0.8206820682068207"
            ]
          },
          "metadata": {},
          "execution_count": 112
        }
      ]
    },
    {
      "cell_type": "code",
      "metadata": {
        "colab": {
          "base_uri": "https://localhost:8080/"
        },
        "id": "RRtUkIPmRdpM",
        "outputId": "c1dba109-ab31-473b-836b-a6c501c3f420"
      },
      "source": [
        "r2_score(y_test, y_pred4)"
      ],
      "execution_count": 113,
      "outputs": [
        {
          "output_type": "execute_result",
          "data": {
            "text/plain": [
              "-0.11481414693264891"
            ]
          },
          "metadata": {},
          "execution_count": 113
        }
      ]
    },
    {
      "cell_type": "code",
      "metadata": {
        "id": "lQYUrYEikR1T"
      },
      "source": [
        "n3 = KNeighborsClassifier(n_neighbors = 5)\n",
        "n3.fit(x_train, y_train)\n",
        "y_pred41 = n3.predict(x_test)"
      ],
      "execution_count": 114,
      "outputs": []
    },
    {
      "cell_type": "code",
      "metadata": {
        "colab": {
          "base_uri": "https://localhost:8080/"
        },
        "id": "y1J1Flf9kR1V",
        "outputId": "54af555c-66db-45fd-e701-c4930be298b3"
      },
      "source": [
        "print(classification_report(y_test,y_pred41))"
      ],
      "execution_count": 115,
      "outputs": [
        {
          "output_type": "stream",
          "name": "stdout",
          "text": [
            "              precision    recall  f1-score   support\n",
            "\n",
            "           0       0.61      0.43      0.50      4028\n",
            "           1       0.87      0.93      0.90     15970\n",
            "\n",
            "    accuracy                           0.83     19998\n",
            "   macro avg       0.74      0.68      0.70     19998\n",
            "weighted avg       0.81      0.83      0.82     19998\n",
            "\n"
          ]
        }
      ]
    },
    {
      "cell_type": "code",
      "metadata": {
        "colab": {
          "base_uri": "https://localhost:8080/"
        },
        "id": "GyigO6F4kR1W",
        "outputId": "4230c92d-5faf-4c29-bdf5-a1d7d8b80e8a"
      },
      "source": [
        "accuracy_score(y_test, y_pred41)"
      ],
      "execution_count": 116,
      "outputs": [
        {
          "output_type": "execute_result",
          "data": {
            "text/plain": [
              "0.8302330233023303"
            ]
          },
          "metadata": {},
          "execution_count": 116
        }
      ]
    },
    {
      "cell_type": "code",
      "metadata": {
        "colab": {
          "base_uri": "https://localhost:8080/"
        },
        "id": "9vwGvHipRR48",
        "outputId": "07d4dec1-dda3-4fe5-b070-9a0e7ed3aa20"
      },
      "source": [
        "r2_score(y_test, y_pred41)"
      ],
      "execution_count": 117,
      "outputs": [
        {
          "output_type": "execute_result",
          "data": {
            "text/plain": [
              "-0.05543614858793733"
            ]
          },
          "metadata": {},
          "execution_count": 117
        }
      ]
    },
    {
      "cell_type": "code",
      "metadata": {
        "id": "4qh2T9YskgSX"
      },
      "source": [
        "n3 = KNeighborsClassifier(n_neighbors = 9)\n",
        "n3.fit(x_train, y_train)\n",
        "y_pred42 = n3.predict(x_test)"
      ],
      "execution_count": 118,
      "outputs": []
    },
    {
      "cell_type": "code",
      "metadata": {
        "colab": {
          "base_uri": "https://localhost:8080/"
        },
        "id": "S8TeoxTQkgSY",
        "outputId": "cfc9165b-bdbb-4374-adba-510843f23881"
      },
      "source": [
        "print(classification_report(y_test,y_pred42))"
      ],
      "execution_count": 119,
      "outputs": [
        {
          "output_type": "stream",
          "name": "stdout",
          "text": [
            "              precision    recall  f1-score   support\n",
            "\n",
            "           0       0.65      0.40      0.49      4028\n",
            "           1       0.86      0.95      0.90     15970\n",
            "\n",
            "    accuracy                           0.83     19998\n",
            "   macro avg       0.75      0.67      0.70     19998\n",
            "weighted avg       0.82      0.83      0.82     19998\n",
            "\n"
          ]
        }
      ]
    },
    {
      "cell_type": "code",
      "metadata": {
        "colab": {
          "base_uri": "https://localhost:8080/"
        },
        "id": "5bVZudOLkgSY",
        "outputId": "68cebcde-e52e-4e79-9e38-8c71717ac3cd"
      },
      "source": [
        "accuracy_score(y_test, y_pred42)"
      ],
      "execution_count": 120,
      "outputs": [
        {
          "output_type": "execute_result",
          "data": {
            "text/plain": [
              "0.834983498349835"
            ]
          },
          "metadata": {},
          "execution_count": 120
        }
      ]
    },
    {
      "cell_type": "code",
      "metadata": {
        "colab": {
          "base_uri": "https://localhost:8080/"
        },
        "id": "mLTstiUgRNRl",
        "outputId": "ae7725ec-3465-4113-b146-fc73eafb1d58"
      },
      "source": [
        "r2_score(y_test, y_pred42)"
      ],
      "execution_count": 121,
      "outputs": [
        {
          "output_type": "execute_result",
          "data": {
            "text/plain": [
              "-0.02590258920182409"
            ]
          },
          "metadata": {},
          "execution_count": 121
        }
      ]
    },
    {
      "cell_type": "markdown",
      "metadata": {
        "id": "SFzcspZvwr33"
      },
      "source": [
        "# Logistic Regression"
      ]
    },
    {
      "cell_type": "code",
      "metadata": {
        "colab": {
          "base_uri": "https://localhost:8080/"
        },
        "id": "vfr2eITtxXBB",
        "outputId": "8b6cceb3-787f-464a-d60c-5387e2bbc840"
      },
      "source": [
        "classifier = LogisticRegression(random_state = 0)\n",
        "classifier.fit(x_train, y_train)\n",
        "y_pred = classifier.predict(x_test)\n",
        "p6= precision_score(y_test, y_pred)\n",
        "print(classification_report(y_test, y_pred))\n",
        "r6=recall_score(y_test, y_pred)\n",
        "f6=f1_score(y_test, y_pred)"
      ],
      "execution_count": 122,
      "outputs": [
        {
          "output_type": "stream",
          "name": "stdout",
          "text": [
            "              precision    recall  f1-score   support\n",
            "\n",
            "           0       0.58      0.15      0.24      4028\n",
            "           1       0.82      0.97      0.89     15970\n",
            "\n",
            "    accuracy                           0.81     19998\n",
            "   macro avg       0.70      0.56      0.57     19998\n",
            "weighted avg       0.77      0.81      0.76     19998\n",
            "\n"
          ]
        }
      ]
    },
    {
      "cell_type": "code",
      "metadata": {
        "colab": {
          "base_uri": "https://localhost:8080/"
        },
        "id": "p9OAQYK5xfKh",
        "outputId": "d906e449-164d-4cc4-a6b7-b93040919d5a"
      },
      "source": [
        "accuracy_score(y_test, y_pred)"
      ],
      "execution_count": 123,
      "outputs": [
        {
          "output_type": "execute_result",
          "data": {
            "text/plain": [
              "0.8068806880688069"
            ]
          },
          "metadata": {},
          "execution_count": 123
        }
      ]
    },
    {
      "cell_type": "code",
      "metadata": {
        "colab": {
          "base_uri": "https://localhost:8080/"
        },
        "id": "xNSnMdhwRit0",
        "outputId": "bd4f277f-08fb-43ea-b60e-56e7c32bf46e"
      },
      "source": [
        "r2_score(y_test, y_pred)"
      ],
      "execution_count": 124,
      "outputs": [
        {
          "output_type": "execute_result",
          "data": {
            "text/plain": [
              "-0.2006169089386196"
            ]
          },
          "metadata": {},
          "execution_count": 124
        }
      ]
    },
    {
      "cell_type": "markdown",
      "metadata": {
        "id": "mraW0HTdwwY0"
      },
      "source": [
        "# Random Forest"
      ]
    },
    {
      "cell_type": "code",
      "metadata": {
        "colab": {
          "base_uri": "https://localhost:8080/"
        },
        "id": "j4yfTxxSw8Dx",
        "outputId": "a59802f0-0f53-4b2e-f159-3a8f56476881"
      },
      "source": [
        "rf = RandomForestClassifier()\n",
        "rf.fit(x_train, y_train)\n",
        "pred_rf = rf.predict(x_test)\n",
        "p7= precision_score(y_test, pred_rf)\n",
        "r7=recall_score(y_test, pred_rf)\n",
        "f7=f1_score(y_test,pred_rf)\n",
        "print(classification_report(y_test, pred_rf))"
      ],
      "execution_count": 125,
      "outputs": [
        {
          "output_type": "stream",
          "name": "stdout",
          "text": [
            "              precision    recall  f1-score   support\n",
            "\n",
            "           0       0.65      0.50      0.56      4028\n",
            "           1       0.88      0.93      0.91     15970\n",
            "\n",
            "    accuracy                           0.84     19998\n",
            "   macro avg       0.76      0.71      0.73     19998\n",
            "weighted avg       0.83      0.84      0.84     19998\n",
            "\n"
          ]
        }
      ]
    },
    {
      "cell_type": "code",
      "metadata": {
        "colab": {
          "base_uri": "https://localhost:8080/"
        },
        "id": "xPnhGtchxFqM",
        "outputId": "a76f6aca-8ba2-495b-bf76-1f8e2d9f1f44"
      },
      "source": [
        "accuracy_score(y_test, pred_rf)"
      ],
      "execution_count": 126,
      "outputs": [
        {
          "output_type": "execute_result",
          "data": {
            "text/plain": [
              "0.8442844284428442"
            ]
          },
          "metadata": {},
          "execution_count": 126
        }
      ]
    },
    {
      "cell_type": "code",
      "metadata": {
        "colab": {
          "base_uri": "https://localhost:8080/"
        },
        "id": "1BqlzFTuRogi",
        "outputId": "b2a40a4e-f4ca-47a3-b472-14640f8b7fde"
      },
      "source": [
        "r2_score(y_test, pred_rf)"
      ],
      "execution_count": 127,
      "outputs": [
        {
          "output_type": "execute_result",
          "data": {
            "text/plain": [
              "0.03192101128046043"
            ]
          },
          "metadata": {},
          "execution_count": 127
        }
      ]
    },
    {
      "cell_type": "markdown",
      "metadata": {
        "id": "c8Hvi5vOjP0L"
      },
      "source": [
        "# Stochastic Gradient Descent"
      ]
    },
    {
      "cell_type": "code",
      "metadata": {
        "id": "wAD-lgqmjP0M",
        "colab": {
          "base_uri": "https://localhost:8080/"
        },
        "outputId": "c8f28e0a-b85e-4d17-8aa3-0534f4ab0f92"
      },
      "source": [
        "sgd = SGDClassifier()\n",
        "sgd.fit(x_train, y_train)\n",
        "pred_sgd = sgd.predict(x_test)\n",
        "print(classification_report(y_test, pred_sgd))\n",
        "\n",
        "p9= precision_score(y_test, pred_sgd)\n",
        "r9=recall_score(y_test, pred_sgd)\n",
        "f9=f1_score(y_test, pred_sgd)\n"
      ],
      "execution_count": 139,
      "outputs": [
        {
          "output_type": "stream",
          "name": "stdout",
          "text": [
            "              precision    recall  f1-score   support\n",
            "\n",
            "           0       0.00      0.00      0.00      4028\n",
            "           1       0.80      1.00      0.89     15970\n",
            "\n",
            "    accuracy                           0.80     19998\n",
            "   macro avg       0.40      0.50      0.44     19998\n",
            "weighted avg       0.64      0.80      0.71     19998\n",
            "\n"
          ]
        },
        {
          "output_type": "stream",
          "name": "stderr",
          "text": [
            "/usr/local/lib/python3.7/dist-packages/sklearn/metrics/_classification.py:1308: UndefinedMetricWarning: Precision and F-score are ill-defined and being set to 0.0 in labels with no predicted samples. Use `zero_division` parameter to control this behavior.\n",
            "  _warn_prf(average, modifier, msg_start, len(result))\n",
            "/usr/local/lib/python3.7/dist-packages/sklearn/metrics/_classification.py:1308: UndefinedMetricWarning: Precision and F-score are ill-defined and being set to 0.0 in labels with no predicted samples. Use `zero_division` parameter to control this behavior.\n",
            "  _warn_prf(average, modifier, msg_start, len(result))\n",
            "/usr/local/lib/python3.7/dist-packages/sklearn/metrics/_classification.py:1308: UndefinedMetricWarning: Precision and F-score are ill-defined and being set to 0.0 in labels with no predicted samples. Use `zero_division` parameter to control this behavior.\n",
            "  _warn_prf(average, modifier, msg_start, len(result))\n"
          ]
        }
      ]
    },
    {
      "cell_type": "code",
      "metadata": {
        "colab": {
          "base_uri": "https://localhost:8080/"
        },
        "id": "ZPSfgXg6Rxj5",
        "outputId": "38d8c0d7-1a05-4ff7-ecff-d094cc0db892"
      },
      "source": [
        "accuracy_score(y_test, pred_sgd)"
      ],
      "execution_count": null,
      "outputs": [
        {
          "output_type": "execute_result",
          "data": {
            "text/plain": [
              "1.0"
            ]
          },
          "metadata": {},
          "execution_count": 117
        }
      ]
    },
    {
      "cell_type": "code",
      "metadata": {
        "colab": {
          "base_uri": "https://localhost:8080/"
        },
        "id": "yavxMWYYR0ol",
        "outputId": "f12ca9d1-ea4c-4bfd-824f-5a3b23032799"
      },
      "source": [
        "r2_score(y_test, pred_sgd)"
      ],
      "execution_count": null,
      "outputs": [
        {
          "output_type": "execute_result",
          "data": {
            "text/plain": [
              "1.0"
            ]
          },
          "metadata": {},
          "execution_count": 119
        }
      ]
    },
    {
      "cell_type": "markdown",
      "metadata": {
        "id": "IOkY3zSBIq9i"
      },
      "source": [
        "# Neural Networks"
      ]
    },
    {
      "cell_type": "code",
      "metadata": {
        "colab": {
          "base_uri": "https://localhost:8080/"
        },
        "id": "WzxcZ13JJfhy",
        "outputId": "433a12df-00cf-4596-90bc-542199931095"
      },
      "source": [
        "clf = MLPClassifier(random_state=1, max_iter=50).fit(x_train, y_train)"
      ],
      "execution_count": 129,
      "outputs": [
        {
          "output_type": "stream",
          "name": "stderr",
          "text": [
            "/usr/local/lib/python3.7/dist-packages/sklearn/neural_network/_multilayer_perceptron.py:696: ConvergenceWarning: Stochastic Optimizer: Maximum iterations (50) reached and the optimization hasn't converged yet.\n",
            "  ConvergenceWarning,\n"
          ]
        }
      ]
    },
    {
      "cell_type": "code",
      "metadata": {
        "colab": {
          "base_uri": "https://localhost:8080/"
        },
        "id": "nG0hemxvJhXn",
        "outputId": "d555bc60-8e6e-4284-a2bd-e0709bb2e24c"
      },
      "source": [
        "clf.predict_proba(x_test)"
      ],
      "execution_count": 130,
      "outputs": [
        {
          "output_type": "execute_result",
          "data": {
            "text/plain": [
              "array([[0.14541442, 0.85458558],\n",
              "       [0.05946205, 0.94053795],\n",
              "       [0.02238471, 0.97761529],\n",
              "       ...,\n",
              "       [0.01706313, 0.98293687],\n",
              "       [0.15701948, 0.84298052],\n",
              "       [0.08074167, 0.91925833]])"
            ]
          },
          "metadata": {},
          "execution_count": 130
        }
      ]
    },
    {
      "cell_type": "code",
      "metadata": {
        "id": "E6AxSQVpJjs9"
      },
      "source": [
        "y1=clf.predict(x_test)\n",
        "y1\n",
        "p8= precision_score(y_test, y1)\n",
        "r8=recall_score(y_test, y1)\n",
        "f8=f1_score(y_test, y1)"
      ],
      "execution_count": 131,
      "outputs": []
    },
    {
      "cell_type": "code",
      "metadata": {
        "colab": {
          "base_uri": "https://localhost:8080/"
        },
        "id": "TYWRpXkKwjFI",
        "outputId": "9c3ee5cc-5d44-46ca-b411-abd97f845ff1"
      },
      "source": [
        "accuracy_score(y_test, y1)"
      ],
      "execution_count": 132,
      "outputs": [
        {
          "output_type": "execute_result",
          "data": {
            "text/plain": [
              "0.8387338733873387"
            ]
          },
          "metadata": {},
          "execution_count": 132
        }
      ]
    },
    {
      "cell_type": "code",
      "metadata": {
        "id": "c-c1mzSwR90R",
        "colab": {
          "base_uri": "https://localhost:8080/"
        },
        "outputId": "dc914bf1-e9f6-4a2f-b229-10227e1340c5"
      },
      "source": [
        "r2_score(y_test, y1)"
      ],
      "execution_count": 133,
      "outputs": [
        {
          "output_type": "execute_result",
          "data": {
            "text/plain": [
              "-0.0025866212654190868"
            ]
          },
          "metadata": {},
          "execution_count": 133
        }
      ]
    },
    {
      "cell_type": "markdown",
      "metadata": {
        "id": "_b37n13alks0"
      },
      "source": [
        "# Comparision"
      ]
    },
    {
      "cell_type": "code",
      "metadata": {
        "colab": {
          "base_uri": "https://localhost:8080/",
          "height": 326
        },
        "id": "bY5_qcxTlixh",
        "outputId": "7b14ff63-5315-4a96-8c9e-53f67fd12889"
      },
      "source": [
        "compare={'Modal Name':['linear SVM','Non-Linear SVM','Naive Bayes','Decision Tree','KNN','Logestic','Random Forest','Neural Networks','Gradient Descent'],\n",
        "         'train accuracy':[lsvm.score(x_train,y_train),nlsvm.score(x_train,y_train),nb.score(x_train,y_train),dt.score(x_train,y_train),n3.score(x_train,y_train),classifier.score(x_train,y_train),rf.score(x_train,y_train),clf.score(x_train,y_train),sgd.score(x_train,y_train)],\n",
        "         'Test accuracy':[lsvm.score(x_test,y_test),nlsvm.score(x_test,y_test),nb.score(x_test,y_test),dt.score(x_test,y_test),n3.score(x_test,y_test),classifier.score(x_test,y_test),rf.score(x_test,y_test),clf.score(x_test,y_test),sgd.score(x_test,y_test)],\n",
        "         'precision':[p1,p2,p3,p4,p5,p6,p7,p8,p9],\n",
        "         'recall':[r1,r2,r3,r4,r5,r6,r7,r8,r9],\n",
        "         'f1_score':[f1,f2,f3,f4,f5,f6,f7,f8,f9]\n",
        "}\n",
        "com=pd.DataFrame(compare)\n",
        "com         "
      ],
      "execution_count": 140,
      "outputs": [
        {
          "output_type": "execute_result",
          "data": {
            "text/html": [
              "<div>\n",
              "<style scoped>\n",
              "    .dataframe tbody tr th:only-of-type {\n",
              "        vertical-align: middle;\n",
              "    }\n",
              "\n",
              "    .dataframe tbody tr th {\n",
              "        vertical-align: top;\n",
              "    }\n",
              "\n",
              "    .dataframe thead th {\n",
              "        text-align: right;\n",
              "    }\n",
              "</style>\n",
              "<table border=\"1\" class=\"dataframe\">\n",
              "  <thead>\n",
              "    <tr style=\"text-align: right;\">\n",
              "      <th></th>\n",
              "      <th>Modal Name</th>\n",
              "      <th>train accuracy</th>\n",
              "      <th>Test accuracy</th>\n",
              "      <th>precision</th>\n",
              "      <th>recall</th>\n",
              "      <th>f1_score</th>\n",
              "    </tr>\n",
              "  </thead>\n",
              "  <tbody>\n",
              "    <tr>\n",
              "      <th>0</th>\n",
              "      <td>linear SVM</td>\n",
              "      <td>0.800348</td>\n",
              "      <td>0.798580</td>\n",
              "      <td>0.798580</td>\n",
              "      <td>1.000000</td>\n",
              "      <td>0.888012</td>\n",
              "    </tr>\n",
              "    <tr>\n",
              "      <th>1</th>\n",
              "      <td>Non-Linear SVM</td>\n",
              "      <td>0.836678</td>\n",
              "      <td>0.834783</td>\n",
              "      <td>0.840740</td>\n",
              "      <td>0.978460</td>\n",
              "      <td>0.904387</td>\n",
              "    </tr>\n",
              "    <tr>\n",
              "      <th>2</th>\n",
              "      <td>Naive Bayes</td>\n",
              "      <td>0.816250</td>\n",
              "      <td>0.818182</td>\n",
              "      <td>0.845335</td>\n",
              "      <td>0.945272</td>\n",
              "      <td>0.892515</td>\n",
              "    </tr>\n",
              "    <tr>\n",
              "      <th>3</th>\n",
              "      <td>Decision Tree</td>\n",
              "      <td>1.000000</td>\n",
              "      <td>0.840184</td>\n",
              "      <td>0.900138</td>\n",
              "      <td>0.899687</td>\n",
              "      <td>0.899912</td>\n",
              "    </tr>\n",
              "    <tr>\n",
              "      <th>4</th>\n",
              "      <td>KNN</td>\n",
              "      <td>0.859443</td>\n",
              "      <td>0.834983</td>\n",
              "      <td>0.867609</td>\n",
              "      <td>0.915091</td>\n",
              "      <td>0.890717</td>\n",
              "    </tr>\n",
              "    <tr>\n",
              "      <th>5</th>\n",
              "      <td>Logestic</td>\n",
              "      <td>0.806848</td>\n",
              "      <td>0.806881</td>\n",
              "      <td>0.819641</td>\n",
              "      <td>0.972073</td>\n",
              "      <td>0.889373</td>\n",
              "    </tr>\n",
              "    <tr>\n",
              "      <th>6</th>\n",
              "      <td>Random Forest</td>\n",
              "      <td>0.999987</td>\n",
              "      <td>0.844284</td>\n",
              "      <td>0.879861</td>\n",
              "      <td>0.932311</td>\n",
              "      <td>0.905327</td>\n",
              "    </tr>\n",
              "    <tr>\n",
              "      <th>7</th>\n",
              "      <td>Neural Networks</td>\n",
              "      <td>0.839153</td>\n",
              "      <td>0.838734</td>\n",
              "      <td>0.852247</td>\n",
              "      <td>0.965435</td>\n",
              "      <td>0.905317</td>\n",
              "    </tr>\n",
              "    <tr>\n",
              "      <th>8</th>\n",
              "      <td>Gradient Descent</td>\n",
              "      <td>0.800348</td>\n",
              "      <td>0.798580</td>\n",
              "      <td>0.798580</td>\n",
              "      <td>1.000000</td>\n",
              "      <td>0.888012</td>\n",
              "    </tr>\n",
              "  </tbody>\n",
              "</table>\n",
              "</div>"
            ],
            "text/plain": [
              "         Modal Name  train accuracy  ...    recall  f1_score\n",
              "0        linear SVM        0.800348  ...  1.000000  0.888012\n",
              "1    Non-Linear SVM        0.836678  ...  0.978460  0.904387\n",
              "2       Naive Bayes        0.816250  ...  0.945272  0.892515\n",
              "3     Decision Tree        1.000000  ...  0.899687  0.899912\n",
              "4               KNN        0.859443  ...  0.915091  0.890717\n",
              "5          Logestic        0.806848  ...  0.972073  0.889373\n",
              "6     Random Forest        0.999987  ...  0.932311  0.905327\n",
              "7   Neural Networks        0.839153  ...  0.965435  0.905317\n",
              "8  Gradient Descent        0.800348  ...  1.000000  0.888012\n",
              "\n",
              "[9 rows x 6 columns]"
            ]
          },
          "metadata": {},
          "execution_count": 140
        }
      ]
    },
    {
      "cell_type": "code",
      "metadata": {
        "colab": {
          "base_uri": "https://localhost:8080/",
          "height": 374
        },
        "id": "Nkvdkuwblull",
        "outputId": "75263179-6734-4149-c22d-b4e41253106b"
      },
      "source": [
        "import matplotlib.pyplot as plt\n",
        "com.plot(x=\"Modal Name\", y=[\"train accuracy\",\"Test accuracy\"],kind=\"bar\")"
      ],
      "execution_count": 141,
      "outputs": [
        {
          "output_type": "execute_result",
          "data": {
            "text/plain": [
              "<matplotlib.axes._subplots.AxesSubplot at 0x7fcb782bc910>"
            ]
          },
          "metadata": {},
          "execution_count": 141
        },
        {
          "output_type": "display_data",
          "data": {
            "image/png": "[encoded data removed]",
            "text/plain": [
              "<Figure size 432x288 with 1 Axes>"
            ]
          },
          "metadata": {
            "needs_background": "light"
          }
        }
      ]
    },
    {
      "cell_type": "code",
      "metadata": {
        "colab": {
          "base_uri": "https://localhost:8080/",
          "height": 374
        },
        "id": "VJFvjrkNl1Ym",
        "outputId": "79b69e16-94b3-4a7d-ce1e-e0948ecc7cee"
      },
      "source": [
        "com.plot(x=\"Modal Name\", y=[\"precision\",\"recall\",\"f1_score\"],kind=\"bar\")"
      ],
      "execution_count": 142,
      "outputs": [
        {
          "output_type": "execute_result",
          "data": {
            "text/plain": [
              "<matplotlib.axes._subplots.AxesSubplot at 0x7fcb7826db50>"
            ]
          },
          "metadata": {},
          "execution_count": 142
        },
        {
          "output_type": "display_data",
          "data": {
            "image/png": "[encoded data removed]",
            "text/plain": [
              "<Figure size 432x288 with 1 Axes>"
            ]
          },
          "metadata": {
            "needs_background": "light"
          }
        }
      ]
    }
  ]
}